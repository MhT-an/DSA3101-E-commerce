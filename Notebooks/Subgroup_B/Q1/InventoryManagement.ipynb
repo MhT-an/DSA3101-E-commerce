{
 "cells": [
  {
   "cell_type": "markdown",
   "metadata": {},
   "source": [
    "# Inventory Management"
   ]
  },
  {
   "cell_type": "markdown",
   "metadata": {},
   "source": [
    "## Average Turnover Rate\n",
    "The inventory turnover ratio is a key metric that shows how efficiently a company manages its inventory. It measures how many times, on average, inventory is sold and replaced over a specific period (usually one year). A higher turnover ratio generally indicates effective inventory management, meaning the company is selling goods quickly and not overstocking. Conversely, a lower turnover ratio can suggest excess inventory, which ties up cash and increases holding costs."
   ]
  },
  {
   "cell_type": "markdown",
   "metadata": {},
   "source": [
    "\n",
    "\n",
    "The inventory turnover ratio is calculated as:\n",
    "\n",
    "<div align=\"center\">\n",
    "\n",
    "$$\n",
    "\\text{Inventory Turnover Ratio} = \\frac{\\text{Total Demand}}{\\text{Average Inventory Level}}\n",
    "$$\n",
    "\n",
    "</div>\n",
    "\n",
    "\n",
    "​\n",
    " \n",
    "- Total Demand represents the total amount of inventory sold during the period.\n",
    "- Average Inventory Level is typically calculated as the average of the inventory at the beginning and end of the period.\n"
   ]
  },
  {
   "cell_type": "markdown",
   "metadata": {},
   "source": [
    "## Categorising our products"
   ]
  },
  {
   "cell_type": "markdown",
   "metadata": {},
   "source": [
    "We can categorize our products into high, medium, and low demand groups. High-demand products require more frequent monitoring, while lower-demand items can be checked less often. For this analysis, our focus will be on high-demand products."
   ]
  },
  {
   "cell_type": "markdown",
   "metadata": {},
   "source": [
    "## Current Turnover Ratio"
   ]
  },
  {
   "cell_type": "markdown",
   "metadata": {},
   "source": [
    "Let's calculate the current turnover ratio of products with high demand."
   ]
  },
  {
   "cell_type": "code",
   "execution_count": 1,
   "metadata": {},
   "outputs": [
    {
     "name": "stderr",
     "output_type": "stream",
     "text": [
      "/Library/Frameworks/Python.framework/Versions/3.12/lib/python3.12/site-packages/tqdm/auto.py:21: TqdmWarning: IProgress not found. Please update jupyter and ipywidgets. See https://ipywidgets.readthedocs.io/en/stable/user_install.html\n",
      "  from .autonotebook import tqdm as notebook_tqdm\n",
      "Importing plotly failed. Interactive plots will not work.\n"
     ]
    }
   ],
   "source": [
    "import pandas as pd\n",
    "import numpy as np\n",
    "from prophet import Prophet"
   ]
  },
  {
   "cell_type": "markdown",
   "metadata": {},
   "source": [
    "### A-items: High demand products\n",
    "Top 20% of products that contribute the most to total demand/value."
   ]
  },
  {
   "cell_type": "code",
   "execution_count": 7,
   "metadata": {},
   "outputs": [
    {
     "ename": "FileNotFoundError",
     "evalue": "[Errno 2] No such file or directory: 'Data/online_retail_clean.csv'",
     "output_type": "error",
     "traceback": [
      "\u001b[0;31m---------------------------------------------------------------------------\u001b[0m",
      "\u001b[0;31mFileNotFoundError\u001b[0m                         Traceback (most recent call last)",
      "Cell \u001b[0;32mIn[7], line 1\u001b[0m\n\u001b[0;32m----> 1\u001b[0m data \u001b[38;5;241m=\u001b[39m \u001b[43mpd\u001b[49m\u001b[38;5;241;43m.\u001b[39;49m\u001b[43mread_csv\u001b[49m\u001b[43m(\u001b[49m\u001b[38;5;124;43m\"\u001b[39;49m\u001b[38;5;124;43mData/online_retail_clean.csv\u001b[39;49m\u001b[38;5;124;43m\"\u001b[39;49m\u001b[43m)\u001b[49m\n\u001b[1;32m      3\u001b[0m \u001b[38;5;66;03m# Calculate total demand (quantity sold) and total sales value for each StockCode\u001b[39;00m\n\u001b[1;32m      4\u001b[0m product_demand \u001b[38;5;241m=\u001b[39m data\u001b[38;5;241m.\u001b[39mgroupby(\u001b[38;5;124m'\u001b[39m\u001b[38;5;124mStockCode\u001b[39m\u001b[38;5;124m'\u001b[39m)\u001b[38;5;241m.\u001b[39magg({\n\u001b[1;32m      5\u001b[0m     \u001b[38;5;124m'\u001b[39m\u001b[38;5;124mQuantity\u001b[39m\u001b[38;5;124m'\u001b[39m: \u001b[38;5;124m'\u001b[39m\u001b[38;5;124msum\u001b[39m\u001b[38;5;124m'\u001b[39m,  \u001b[38;5;66;03m# Total quantity sold\u001b[39;00m\n\u001b[1;32m      6\u001b[0m     \u001b[38;5;124m'\u001b[39m\u001b[38;5;124mTotalPrice\u001b[39m\u001b[38;5;124m'\u001b[39m: \u001b[38;5;124m'\u001b[39m\u001b[38;5;124msum\u001b[39m\u001b[38;5;124m'\u001b[39m  \u001b[38;5;66;03m# Total revenue\u001b[39;00m\n\u001b[1;32m      7\u001b[0m })\u001b[38;5;241m.\u001b[39mreset_index()\n",
      "File \u001b[0;32m/Library/Frameworks/Python.framework/Versions/3.12/lib/python3.12/site-packages/pandas/io/parsers/readers.py:1026\u001b[0m, in \u001b[0;36mread_csv\u001b[0;34m(filepath_or_buffer, sep, delimiter, header, names, index_col, usecols, dtype, engine, converters, true_values, false_values, skipinitialspace, skiprows, skipfooter, nrows, na_values, keep_default_na, na_filter, verbose, skip_blank_lines, parse_dates, infer_datetime_format, keep_date_col, date_parser, date_format, dayfirst, cache_dates, iterator, chunksize, compression, thousands, decimal, lineterminator, quotechar, quoting, doublequote, escapechar, comment, encoding, encoding_errors, dialect, on_bad_lines, delim_whitespace, low_memory, memory_map, float_precision, storage_options, dtype_backend)\u001b[0m\n\u001b[1;32m   1013\u001b[0m kwds_defaults \u001b[38;5;241m=\u001b[39m _refine_defaults_read(\n\u001b[1;32m   1014\u001b[0m     dialect,\n\u001b[1;32m   1015\u001b[0m     delimiter,\n\u001b[0;32m   (...)\u001b[0m\n\u001b[1;32m   1022\u001b[0m     dtype_backend\u001b[38;5;241m=\u001b[39mdtype_backend,\n\u001b[1;32m   1023\u001b[0m )\n\u001b[1;32m   1024\u001b[0m kwds\u001b[38;5;241m.\u001b[39mupdate(kwds_defaults)\n\u001b[0;32m-> 1026\u001b[0m \u001b[38;5;28;01mreturn\u001b[39;00m \u001b[43m_read\u001b[49m\u001b[43m(\u001b[49m\u001b[43mfilepath_or_buffer\u001b[49m\u001b[43m,\u001b[49m\u001b[43m \u001b[49m\u001b[43mkwds\u001b[49m\u001b[43m)\u001b[49m\n",
      "File \u001b[0;32m/Library/Frameworks/Python.framework/Versions/3.12/lib/python3.12/site-packages/pandas/io/parsers/readers.py:620\u001b[0m, in \u001b[0;36m_read\u001b[0;34m(filepath_or_buffer, kwds)\u001b[0m\n\u001b[1;32m    617\u001b[0m _validate_names(kwds\u001b[38;5;241m.\u001b[39mget(\u001b[38;5;124m\"\u001b[39m\u001b[38;5;124mnames\u001b[39m\u001b[38;5;124m\"\u001b[39m, \u001b[38;5;28;01mNone\u001b[39;00m))\n\u001b[1;32m    619\u001b[0m \u001b[38;5;66;03m# Create the parser.\u001b[39;00m\n\u001b[0;32m--> 620\u001b[0m parser \u001b[38;5;241m=\u001b[39m \u001b[43mTextFileReader\u001b[49m\u001b[43m(\u001b[49m\u001b[43mfilepath_or_buffer\u001b[49m\u001b[43m,\u001b[49m\u001b[43m \u001b[49m\u001b[38;5;241;43m*\u001b[39;49m\u001b[38;5;241;43m*\u001b[39;49m\u001b[43mkwds\u001b[49m\u001b[43m)\u001b[49m\n\u001b[1;32m    622\u001b[0m \u001b[38;5;28;01mif\u001b[39;00m chunksize \u001b[38;5;129;01mor\u001b[39;00m iterator:\n\u001b[1;32m    623\u001b[0m     \u001b[38;5;28;01mreturn\u001b[39;00m parser\n",
      "File \u001b[0;32m/Library/Frameworks/Python.framework/Versions/3.12/lib/python3.12/site-packages/pandas/io/parsers/readers.py:1620\u001b[0m, in \u001b[0;36mTextFileReader.__init__\u001b[0;34m(self, f, engine, **kwds)\u001b[0m\n\u001b[1;32m   1617\u001b[0m     \u001b[38;5;28mself\u001b[39m\u001b[38;5;241m.\u001b[39moptions[\u001b[38;5;124m\"\u001b[39m\u001b[38;5;124mhas_index_names\u001b[39m\u001b[38;5;124m\"\u001b[39m] \u001b[38;5;241m=\u001b[39m kwds[\u001b[38;5;124m\"\u001b[39m\u001b[38;5;124mhas_index_names\u001b[39m\u001b[38;5;124m\"\u001b[39m]\n\u001b[1;32m   1619\u001b[0m \u001b[38;5;28mself\u001b[39m\u001b[38;5;241m.\u001b[39mhandles: IOHandles \u001b[38;5;241m|\u001b[39m \u001b[38;5;28;01mNone\u001b[39;00m \u001b[38;5;241m=\u001b[39m \u001b[38;5;28;01mNone\u001b[39;00m\n\u001b[0;32m-> 1620\u001b[0m \u001b[38;5;28mself\u001b[39m\u001b[38;5;241m.\u001b[39m_engine \u001b[38;5;241m=\u001b[39m \u001b[38;5;28;43mself\u001b[39;49m\u001b[38;5;241;43m.\u001b[39;49m\u001b[43m_make_engine\u001b[49m\u001b[43m(\u001b[49m\u001b[43mf\u001b[49m\u001b[43m,\u001b[49m\u001b[43m \u001b[49m\u001b[38;5;28;43mself\u001b[39;49m\u001b[38;5;241;43m.\u001b[39;49m\u001b[43mengine\u001b[49m\u001b[43m)\u001b[49m\n",
      "File \u001b[0;32m/Library/Frameworks/Python.framework/Versions/3.12/lib/python3.12/site-packages/pandas/io/parsers/readers.py:1880\u001b[0m, in \u001b[0;36mTextFileReader._make_engine\u001b[0;34m(self, f, engine)\u001b[0m\n\u001b[1;32m   1878\u001b[0m     \u001b[38;5;28;01mif\u001b[39;00m \u001b[38;5;124m\"\u001b[39m\u001b[38;5;124mb\u001b[39m\u001b[38;5;124m\"\u001b[39m \u001b[38;5;129;01mnot\u001b[39;00m \u001b[38;5;129;01min\u001b[39;00m mode:\n\u001b[1;32m   1879\u001b[0m         mode \u001b[38;5;241m+\u001b[39m\u001b[38;5;241m=\u001b[39m \u001b[38;5;124m\"\u001b[39m\u001b[38;5;124mb\u001b[39m\u001b[38;5;124m\"\u001b[39m\n\u001b[0;32m-> 1880\u001b[0m \u001b[38;5;28mself\u001b[39m\u001b[38;5;241m.\u001b[39mhandles \u001b[38;5;241m=\u001b[39m \u001b[43mget_handle\u001b[49m\u001b[43m(\u001b[49m\n\u001b[1;32m   1881\u001b[0m \u001b[43m    \u001b[49m\u001b[43mf\u001b[49m\u001b[43m,\u001b[49m\n\u001b[1;32m   1882\u001b[0m \u001b[43m    \u001b[49m\u001b[43mmode\u001b[49m\u001b[43m,\u001b[49m\n\u001b[1;32m   1883\u001b[0m \u001b[43m    \u001b[49m\u001b[43mencoding\u001b[49m\u001b[38;5;241;43m=\u001b[39;49m\u001b[38;5;28;43mself\u001b[39;49m\u001b[38;5;241;43m.\u001b[39;49m\u001b[43moptions\u001b[49m\u001b[38;5;241;43m.\u001b[39;49m\u001b[43mget\u001b[49m\u001b[43m(\u001b[49m\u001b[38;5;124;43m\"\u001b[39;49m\u001b[38;5;124;43mencoding\u001b[39;49m\u001b[38;5;124;43m\"\u001b[39;49m\u001b[43m,\u001b[49m\u001b[43m \u001b[49m\u001b[38;5;28;43;01mNone\u001b[39;49;00m\u001b[43m)\u001b[49m\u001b[43m,\u001b[49m\n\u001b[1;32m   1884\u001b[0m \u001b[43m    \u001b[49m\u001b[43mcompression\u001b[49m\u001b[38;5;241;43m=\u001b[39;49m\u001b[38;5;28;43mself\u001b[39;49m\u001b[38;5;241;43m.\u001b[39;49m\u001b[43moptions\u001b[49m\u001b[38;5;241;43m.\u001b[39;49m\u001b[43mget\u001b[49m\u001b[43m(\u001b[49m\u001b[38;5;124;43m\"\u001b[39;49m\u001b[38;5;124;43mcompression\u001b[39;49m\u001b[38;5;124;43m\"\u001b[39;49m\u001b[43m,\u001b[49m\u001b[43m \u001b[49m\u001b[38;5;28;43;01mNone\u001b[39;49;00m\u001b[43m)\u001b[49m\u001b[43m,\u001b[49m\n\u001b[1;32m   1885\u001b[0m \u001b[43m    \u001b[49m\u001b[43mmemory_map\u001b[49m\u001b[38;5;241;43m=\u001b[39;49m\u001b[38;5;28;43mself\u001b[39;49m\u001b[38;5;241;43m.\u001b[39;49m\u001b[43moptions\u001b[49m\u001b[38;5;241;43m.\u001b[39;49m\u001b[43mget\u001b[49m\u001b[43m(\u001b[49m\u001b[38;5;124;43m\"\u001b[39;49m\u001b[38;5;124;43mmemory_map\u001b[39;49m\u001b[38;5;124;43m\"\u001b[39;49m\u001b[43m,\u001b[49m\u001b[43m \u001b[49m\u001b[38;5;28;43;01mFalse\u001b[39;49;00m\u001b[43m)\u001b[49m\u001b[43m,\u001b[49m\n\u001b[1;32m   1886\u001b[0m \u001b[43m    \u001b[49m\u001b[43mis_text\u001b[49m\u001b[38;5;241;43m=\u001b[39;49m\u001b[43mis_text\u001b[49m\u001b[43m,\u001b[49m\n\u001b[1;32m   1887\u001b[0m \u001b[43m    \u001b[49m\u001b[43merrors\u001b[49m\u001b[38;5;241;43m=\u001b[39;49m\u001b[38;5;28;43mself\u001b[39;49m\u001b[38;5;241;43m.\u001b[39;49m\u001b[43moptions\u001b[49m\u001b[38;5;241;43m.\u001b[39;49m\u001b[43mget\u001b[49m\u001b[43m(\u001b[49m\u001b[38;5;124;43m\"\u001b[39;49m\u001b[38;5;124;43mencoding_errors\u001b[39;49m\u001b[38;5;124;43m\"\u001b[39;49m\u001b[43m,\u001b[49m\u001b[43m \u001b[49m\u001b[38;5;124;43m\"\u001b[39;49m\u001b[38;5;124;43mstrict\u001b[39;49m\u001b[38;5;124;43m\"\u001b[39;49m\u001b[43m)\u001b[49m\u001b[43m,\u001b[49m\n\u001b[1;32m   1888\u001b[0m \u001b[43m    \u001b[49m\u001b[43mstorage_options\u001b[49m\u001b[38;5;241;43m=\u001b[39;49m\u001b[38;5;28;43mself\u001b[39;49m\u001b[38;5;241;43m.\u001b[39;49m\u001b[43moptions\u001b[49m\u001b[38;5;241;43m.\u001b[39;49m\u001b[43mget\u001b[49m\u001b[43m(\u001b[49m\u001b[38;5;124;43m\"\u001b[39;49m\u001b[38;5;124;43mstorage_options\u001b[39;49m\u001b[38;5;124;43m\"\u001b[39;49m\u001b[43m,\u001b[49m\u001b[43m \u001b[49m\u001b[38;5;28;43;01mNone\u001b[39;49;00m\u001b[43m)\u001b[49m\u001b[43m,\u001b[49m\n\u001b[1;32m   1889\u001b[0m \u001b[43m\u001b[49m\u001b[43m)\u001b[49m\n\u001b[1;32m   1890\u001b[0m \u001b[38;5;28;01massert\u001b[39;00m \u001b[38;5;28mself\u001b[39m\u001b[38;5;241m.\u001b[39mhandles \u001b[38;5;129;01mis\u001b[39;00m \u001b[38;5;129;01mnot\u001b[39;00m \u001b[38;5;28;01mNone\u001b[39;00m\n\u001b[1;32m   1891\u001b[0m f \u001b[38;5;241m=\u001b[39m \u001b[38;5;28mself\u001b[39m\u001b[38;5;241m.\u001b[39mhandles\u001b[38;5;241m.\u001b[39mhandle\n",
      "File \u001b[0;32m/Library/Frameworks/Python.framework/Versions/3.12/lib/python3.12/site-packages/pandas/io/common.py:873\u001b[0m, in \u001b[0;36mget_handle\u001b[0;34m(path_or_buf, mode, encoding, compression, memory_map, is_text, errors, storage_options)\u001b[0m\n\u001b[1;32m    868\u001b[0m \u001b[38;5;28;01melif\u001b[39;00m \u001b[38;5;28misinstance\u001b[39m(handle, \u001b[38;5;28mstr\u001b[39m):\n\u001b[1;32m    869\u001b[0m     \u001b[38;5;66;03m# Check whether the filename is to be opened in binary mode.\u001b[39;00m\n\u001b[1;32m    870\u001b[0m     \u001b[38;5;66;03m# Binary mode does not support 'encoding' and 'newline'.\u001b[39;00m\n\u001b[1;32m    871\u001b[0m     \u001b[38;5;28;01mif\u001b[39;00m ioargs\u001b[38;5;241m.\u001b[39mencoding \u001b[38;5;129;01mand\u001b[39;00m \u001b[38;5;124m\"\u001b[39m\u001b[38;5;124mb\u001b[39m\u001b[38;5;124m\"\u001b[39m \u001b[38;5;129;01mnot\u001b[39;00m \u001b[38;5;129;01min\u001b[39;00m ioargs\u001b[38;5;241m.\u001b[39mmode:\n\u001b[1;32m    872\u001b[0m         \u001b[38;5;66;03m# Encoding\u001b[39;00m\n\u001b[0;32m--> 873\u001b[0m         handle \u001b[38;5;241m=\u001b[39m \u001b[38;5;28;43mopen\u001b[39;49m\u001b[43m(\u001b[49m\n\u001b[1;32m    874\u001b[0m \u001b[43m            \u001b[49m\u001b[43mhandle\u001b[49m\u001b[43m,\u001b[49m\n\u001b[1;32m    875\u001b[0m \u001b[43m            \u001b[49m\u001b[43mioargs\u001b[49m\u001b[38;5;241;43m.\u001b[39;49m\u001b[43mmode\u001b[49m\u001b[43m,\u001b[49m\n\u001b[1;32m    876\u001b[0m \u001b[43m            \u001b[49m\u001b[43mencoding\u001b[49m\u001b[38;5;241;43m=\u001b[39;49m\u001b[43mioargs\u001b[49m\u001b[38;5;241;43m.\u001b[39;49m\u001b[43mencoding\u001b[49m\u001b[43m,\u001b[49m\n\u001b[1;32m    877\u001b[0m \u001b[43m            \u001b[49m\u001b[43merrors\u001b[49m\u001b[38;5;241;43m=\u001b[39;49m\u001b[43merrors\u001b[49m\u001b[43m,\u001b[49m\n\u001b[1;32m    878\u001b[0m \u001b[43m            \u001b[49m\u001b[43mnewline\u001b[49m\u001b[38;5;241;43m=\u001b[39;49m\u001b[38;5;124;43m\"\u001b[39;49m\u001b[38;5;124;43m\"\u001b[39;49m\u001b[43m,\u001b[49m\n\u001b[1;32m    879\u001b[0m \u001b[43m        \u001b[49m\u001b[43m)\u001b[49m\n\u001b[1;32m    880\u001b[0m     \u001b[38;5;28;01melse\u001b[39;00m:\n\u001b[1;32m    881\u001b[0m         \u001b[38;5;66;03m# Binary mode\u001b[39;00m\n\u001b[1;32m    882\u001b[0m         handle \u001b[38;5;241m=\u001b[39m \u001b[38;5;28mopen\u001b[39m(handle, ioargs\u001b[38;5;241m.\u001b[39mmode)\n",
      "\u001b[0;31mFileNotFoundError\u001b[0m: [Errno 2] No such file or directory: 'Data/online_retail_clean.csv'"
     ]
    }
   ],
   "source": [
    "data = pd.read_csv(\"Data/online_retail_clean.csv\")\n",
    "\n",
    "# Calculate total demand (quantity sold) and total sales value for each StockCode\n",
    "product_demand = data.groupby('StockCode').agg({\n",
    "    'Quantity': 'sum',  # Total quantity sold\n",
    "    'TotalPrice': 'sum'  # Total revenue\n",
    "}).reset_index()\n",
    "\n",
    "# Rank products by total demand in descending order for ABC analysis\n",
    "product_demand = product_demand.sort_values(by='Quantity', ascending=False)\n",
    "product_demand['Cumulative_Demand'] = product_demand['Quantity'].cumsum()\n",
    "total_demand = product_demand['Quantity'].sum()\n",
    "\n",
    "# Rename 'Quantity' to 'TotalDemand' for clarity\n",
    "product_demand.rename(columns={'Quantity': 'TotalDemand'}, inplace=True)\n",
    "\n",
    "\n",
    "# Classify products based on cumulative demand percentages\n",
    "product_demand['Demand_Percentage'] = product_demand['Cumulative_Demand'] / total_demand\n",
    "product_demand['ABC_Category'] = pd.cut(\n",
    "    product_demand['Demand_Percentage'],\n",
    "    bins=[0, 0.2, 0.5, 1.0],  # Top 20%, next 30%, and remaining 50%\n",
    "    labels=['A', 'B', 'C']\n",
    ")\n",
    "\n",
    "# import ace_tools as tools; tools.display_dataframe_to_user(name=\"ABC Analysis - Product Segmentation\", dataframe=product_demand)\n",
    "\n",
    "product_demand.head()\n"
   ]
  },
  {
   "cell_type": "markdown",
   "metadata": {},
   "source": [
    "### Generate Synthetic Data to estimate the current inventory levels of the products"
   ]
  },
  {
   "cell_type": "code",
   "execution_count": 4,
   "metadata": {},
   "outputs": [
    {
     "data": {
      "text/html": [
       "<div>\n",
       "<style scoped>\n",
       "    .dataframe tbody tr th:only-of-type {\n",
       "        vertical-align: middle;\n",
       "    }\n",
       "\n",
       "    .dataframe tbody tr th {\n",
       "        vertical-align: top;\n",
       "    }\n",
       "\n",
       "    .dataframe thead th {\n",
       "        text-align: right;\n",
       "    }\n",
       "</style>\n",
       "<table border=\"1\" class=\"dataframe\">\n",
       "  <thead>\n",
       "    <tr style=\"text-align: right;\">\n",
       "      <th></th>\n",
       "      <th>StockCode</th>\n",
       "      <th>TotalDemand</th>\n",
       "      <th>EstimatedInventory</th>\n",
       "    </tr>\n",
       "  </thead>\n",
       "  <tbody>\n",
       "    <tr>\n",
       "      <th>1115</th>\n",
       "      <td>22197</td>\n",
       "      <td>56427</td>\n",
       "      <td>62082</td>\n",
       "    </tr>\n",
       "    <tr>\n",
       "      <th>2927</th>\n",
       "      <td>84077</td>\n",
       "      <td>53751</td>\n",
       "      <td>59135</td>\n",
       "    </tr>\n",
       "    <tr>\n",
       "      <th>3418</th>\n",
       "      <td>85099B</td>\n",
       "      <td>47260</td>\n",
       "      <td>51999</td>\n",
       "    </tr>\n",
       "    <tr>\n",
       "      <th>3438</th>\n",
       "      <td>85123A</td>\n",
       "      <td>39067</td>\n",
       "      <td>42991</td>\n",
       "    </tr>\n",
       "    <tr>\n",
       "      <th>3216</th>\n",
       "      <td>84879</td>\n",
       "      <td>36282</td>\n",
       "      <td>39919</td>\n",
       "    </tr>\n",
       "  </tbody>\n",
       "</table>\n",
       "</div>"
      ],
      "text/plain": [
       "     StockCode  TotalDemand  EstimatedInventory\n",
       "1115     22197        56427               62082\n",
       "2927     84077        53751               59135\n",
       "3418    85099B        47260               51999\n",
       "3438    85123A        39067               42991\n",
       "3216     84879        36282               39919"
      ]
     },
     "execution_count": 4,
     "metadata": {},
     "output_type": "execute_result"
    }
   ],
   "source": [
    "# Set a random seed for reproducibility\n",
    "np.random.seed(42)\n",
    "\n",
    "a_items_data = product_demand[product_demand['ABC_Category'] == 'A'][['StockCode', 'TotalDemand']]\n",
    "\n",
    "# scale_factor = 1.1 for high demand products to reduce the risk of stockouts\n",
    "def generate_inventory_levels(product_data, scale_factor=1.1, base_stock=10):\n",
    "    # Calculate the estimated inventory levels based on TotalDemand\n",
    "    product_data['EstimatedInventory'] = (product_data['TotalDemand'] * scale_factor \n",
    "                                          + np.random.normal(loc=base_stock, scale=5, size=len(product_data)))\n",
    "    \n",
    "    # Round and convert to integer, ensuring no negative stock levels\n",
    "    product_data['EstimatedInventory'] = product_data['EstimatedInventory'].round().astype(int)\n",
    "    product_data['EstimatedInventory'] = product_data['EstimatedInventory'].clip(lower=0)\n",
    "    \n",
    "    return product_data[['StockCode', 'TotalDemand', 'EstimatedInventory']]  # Keep TotalDemand\n",
    "\n",
    "# Generate synthetic inventory levels with TotalDemand included\n",
    "synthetic_data = generate_inventory_levels(a_items_data)\n",
    "\n",
    "synthetic_data.head()\n"
   ]
  },
  {
   "cell_type": "code",
   "execution_count": 5,
   "metadata": {},
   "outputs": [
    {
     "name": "stdout",
     "output_type": "stream",
     "text": [
      "Average Inventory Turnover Ratio for A-items: 0.91\n"
     ]
    }
   ],
   "source": [
    "# Filter synthetic_data for A-items only\n",
    "\n",
    "# Calculate Inventory Turnover Ratio for each A-item\n",
    "synthetic_data['InventoryTurnoverRatio'] = synthetic_data['TotalDemand'] / synthetic_data['EstimatedInventory']\n",
    "\n",
    "\n",
    "# Calculate the overall average inventory turnover ratio for A-items\n",
    "average_turnover_ratio_a_items = synthetic_data['InventoryTurnoverRatio'].mean()\n",
    "\n",
    "# Display the average turnover ratio for A-items\n",
    "print(f\"Average Inventory Turnover Ratio for A-items: {average_turnover_ratio_a_items:.2f}\")"
   ]
  },
  {
   "cell_type": "markdown",
   "metadata": {},
   "source": [
    "\n",
    "Currently, the UCI Online Retail set has an Average Inventory Turnover Ratio of less than 1, which is problematic because it indicates that inventory is turning over less than once per year, leading to high holding costs and cash tied up in unsold stock. This low turnover suggests inefficiencies, with products at risk of obsolescence and a strain on cash flow that could otherwise be invested in growth."
   ]
  },
  {
   "cell_type": "markdown",
   "metadata": {},
   "source": [
    "## How can we optimize inventory levels to minimize costs while ensuring product availability?"
   ]
  },
  {
   "cell_type": "markdown",
   "metadata": {},
   "source": [
    "In this section, we develop a demand forecasting model and an inventory optimization algorithm aimed at increasing the inventory turnover ratio. By forecasting demand more accurately, we can better align stock levels with actual sales, reducing excess inventory. The optimization algorithm calculates reorder points, safety stock, and economic order quantities (EOQ) to maintain lean inventory levels, minimize holding costs, and ensure products move quickly through the inventory cycle. Together, these methods are designed to improve inventory efficiency and boost turnover."
   ]
  },
  {
   "cell_type": "markdown",
   "metadata": {},
   "source": [
    "### Demand Forecasting Model"
   ]
  },
  {
   "cell_type": "code",
   "execution_count": 6,
   "metadata": {},
   "outputs": [
    {
     "name": "stderr",
     "output_type": "stream",
     "text": [
      "14:48:12 - cmdstanpy - INFO - Chain [1] start processing\n",
      "14:48:12 - cmdstanpy - INFO - Chain [1] done processing\n",
      "14:48:12 - cmdstanpy - INFO - Chain [1] start processing\n",
      "14:48:13 - cmdstanpy - INFO - Chain [1] done processing\n",
      "14:48:13 - cmdstanpy - INFO - Chain [1] start processing\n",
      "14:48:13 - cmdstanpy - INFO - Chain [1] done processing\n",
      "14:48:13 - cmdstanpy - INFO - Chain [1] start processing\n",
      "14:48:13 - cmdstanpy - INFO - Chain [1] done processing\n",
      "14:48:13 - cmdstanpy - INFO - Chain [1] start processing\n",
      "14:48:13 - cmdstanpy - INFO - Chain [1] done processing\n",
      "14:48:13 - cmdstanpy - INFO - Chain [1] start processing\n",
      "14:48:13 - cmdstanpy - INFO - Chain [1] done processing\n",
      "14:48:13 - cmdstanpy - INFO - Chain [1] start processing\n",
      "14:48:13 - cmdstanpy - INFO - Chain [1] done processing\n",
      "14:48:13 - cmdstanpy - INFO - Chain [1] start processing\n",
      "14:48:13 - cmdstanpy - INFO - Chain [1] done processing\n",
      "14:48:14 - cmdstanpy - INFO - Chain [1] start processing\n",
      "14:48:14 - cmdstanpy - INFO - Chain [1] done processing\n",
      "14:48:14 - cmdstanpy - INFO - Chain [1] start processing\n",
      "14:48:14 - cmdstanpy - INFO - Chain [1] done processing\n",
      "14:48:14 - cmdstanpy - INFO - Chain [1] start processing\n",
      "14:48:14 - cmdstanpy - INFO - Chain [1] done processing\n",
      "14:48:14 - cmdstanpy - INFO - Chain [1] start processing\n",
      "14:48:14 - cmdstanpy - INFO - Chain [1] done processing\n",
      "14:48:14 - cmdstanpy - INFO - Chain [1] start processing\n",
      "14:48:14 - cmdstanpy - INFO - Chain [1] done processing\n",
      "14:48:14 - cmdstanpy - INFO - Chain [1] start processing\n",
      "14:48:14 - cmdstanpy - INFO - Chain [1] done processing\n",
      "14:48:14 - cmdstanpy - INFO - Chain [1] start processing\n",
      "14:48:14 - cmdstanpy - INFO - Chain [1] done processing\n",
      "14:48:14 - cmdstanpy - INFO - Chain [1] start processing\n",
      "14:48:14 - cmdstanpy - INFO - Chain [1] done processing\n",
      "14:48:15 - cmdstanpy - INFO - Chain [1] start processing\n",
      "14:48:15 - cmdstanpy - INFO - Chain [1] done processing\n",
      "14:48:15 - cmdstanpy - INFO - Chain [1] start processing\n",
      "14:48:15 - cmdstanpy - INFO - Chain [1] done processing\n",
      "14:48:15 - cmdstanpy - INFO - Chain [1] start processing\n",
      "14:48:15 - cmdstanpy - INFO - Chain [1] done processing\n",
      "14:48:15 - cmdstanpy - INFO - Chain [1] start processing\n",
      "14:48:15 - cmdstanpy - INFO - Chain [1] done processing\n",
      "14:48:15 - cmdstanpy - INFO - Chain [1] start processing\n",
      "14:48:15 - cmdstanpy - INFO - Chain [1] done processing\n",
      "14:48:15 - cmdstanpy - INFO - Chain [1] start processing\n",
      "14:48:15 - cmdstanpy - INFO - Chain [1] done processing\n",
      "14:48:15 - cmdstanpy - INFO - Chain [1] start processing\n",
      "14:48:16 - cmdstanpy - INFO - Chain [1] done processing\n",
      "14:48:16 - cmdstanpy - INFO - Chain [1] start processing\n",
      "14:48:16 - cmdstanpy - INFO - Chain [1] done processing\n",
      "14:48:16 - cmdstanpy - INFO - Chain [1] start processing\n",
      "14:48:16 - cmdstanpy - INFO - Chain [1] done processing\n",
      "14:48:16 - cmdstanpy - INFO - Chain [1] start processing\n",
      "14:48:16 - cmdstanpy - INFO - Chain [1] done processing\n",
      "14:48:16 - cmdstanpy - INFO - Chain [1] start processing\n",
      "14:48:16 - cmdstanpy - INFO - Chain [1] done processing\n",
      "14:48:16 - cmdstanpy - INFO - Chain [1] start processing\n",
      "14:48:16 - cmdstanpy - INFO - Chain [1] done processing\n",
      "14:48:16 - cmdstanpy - INFO - Chain [1] start processing\n",
      "14:48:16 - cmdstanpy - INFO - Chain [1] done processing\n",
      "14:48:16 - cmdstanpy - INFO - Chain [1] start processing\n",
      "14:48:16 - cmdstanpy - INFO - Chain [1] done processing\n",
      "14:48:17 - cmdstanpy - INFO - Chain [1] start processing\n",
      "14:48:17 - cmdstanpy - INFO - Chain [1] done processing\n",
      "14:48:17 - cmdstanpy - INFO - Chain [1] start processing\n",
      "14:48:17 - cmdstanpy - INFO - Chain [1] done processing\n",
      "14:48:17 - cmdstanpy - INFO - Chain [1] start processing\n",
      "14:48:17 - cmdstanpy - INFO - Chain [1] done processing\n",
      "14:48:17 - cmdstanpy - INFO - Chain [1] start processing\n",
      "14:48:17 - cmdstanpy - INFO - Chain [1] done processing\n",
      "14:48:17 - cmdstanpy - INFO - Chain [1] start processing\n",
      "14:48:17 - cmdstanpy - INFO - Chain [1] done processing\n",
      "14:48:17 - cmdstanpy - INFO - Chain [1] start processing\n",
      "14:48:32 - cmdstanpy - INFO - Chain [1] done processing\n",
      "14:48:32 - cmdstanpy - INFO - Chain [1] start processing\n",
      "14:48:32 - cmdstanpy - INFO - Chain [1] done processing\n",
      "14:48:32 - cmdstanpy - INFO - Chain [1] start processing\n",
      "14:48:32 - cmdstanpy - INFO - Chain [1] done processing\n",
      "14:48:33 - cmdstanpy - INFO - Chain [1] start processing\n",
      "14:48:33 - cmdstanpy - INFO - Chain [1] done processing\n",
      "14:48:33 - cmdstanpy - INFO - Chain [1] start processing\n",
      "14:48:33 - cmdstanpy - INFO - Chain [1] done processing\n",
      "14:48:33 - cmdstanpy - INFO - Chain [1] start processing\n",
      "14:48:33 - cmdstanpy - INFO - Chain [1] done processing\n",
      "14:48:33 - cmdstanpy - INFO - Chain [1] start processing\n",
      "14:48:33 - cmdstanpy - INFO - Chain [1] done processing\n",
      "14:48:33 - cmdstanpy - INFO - Chain [1] start processing\n",
      "14:48:33 - cmdstanpy - INFO - Chain [1] done processing\n",
      "14:48:33 - cmdstanpy - INFO - Chain [1] start processing\n",
      "14:48:33 - cmdstanpy - INFO - Chain [1] done processing\n",
      "14:48:33 - cmdstanpy - INFO - Chain [1] start processing\n",
      "14:48:34 - cmdstanpy - INFO - Chain [1] done processing\n",
      "14:48:34 - cmdstanpy - INFO - Chain [1] start processing\n",
      "14:48:34 - cmdstanpy - INFO - Chain [1] done processing\n",
      "14:48:34 - cmdstanpy - INFO - Chain [1] start processing\n",
      "14:48:34 - cmdstanpy - INFO - Chain [1] done processing\n",
      "14:48:34 - cmdstanpy - INFO - Chain [1] start processing\n",
      "14:48:34 - cmdstanpy - INFO - Chain [1] done processing\n",
      "14:48:34 - cmdstanpy - INFO - Chain [1] start processing\n",
      "14:48:34 - cmdstanpy - INFO - Chain [1] done processing\n",
      "14:48:34 - cmdstanpy - INFO - Chain [1] start processing\n",
      "14:48:34 - cmdstanpy - INFO - Chain [1] done processing\n",
      "14:48:34 - cmdstanpy - INFO - Chain [1] start processing\n",
      "14:48:34 - cmdstanpy - INFO - Chain [1] done processing\n",
      "14:48:34 - cmdstanpy - INFO - Chain [1] start processing\n",
      "14:48:34 - cmdstanpy - INFO - Chain [1] done processing\n",
      "14:48:34 - cmdstanpy - INFO - Chain [1] start processing\n",
      "14:48:34 - cmdstanpy - INFO - Chain [1] done processing\n",
      "14:48:35 - cmdstanpy - INFO - Chain [1] start processing\n",
      "14:48:35 - cmdstanpy - INFO - Chain [1] done processing\n"
     ]
    }
   ],
   "source": [
    "# Filter the dataset for A-items based on the ABC analysis\n",
    "a_items = product_demand[product_demand['ABC_Category'] == 'A']['StockCode']\n",
    "\n",
    "# Dictionary to store forecasts for each A-item\n",
    "forecasts = {}\n",
    "\n",
    "for stockcode in a_items:\n",
    "    # Prepare the product-specific time series data\n",
    "    product_data = data[data['StockCode'] == stockcode]\n",
    "    product_data = product_data.groupby('Invoice Date')['Quantity'].sum().reset_index()\n",
    "    product_data.columns = ['ds', 'y']\n",
    "    \n",
    "    # Initialize and fit Prophet model\n",
    "    model = Prophet(yearly_seasonality=True, weekly_seasonality=True, daily_seasonality=False)\n",
    "    model.fit(product_data)\n",
    "    \n",
    "    # Create future dates for forecast (e.g., 52 weeks into the future)\n",
    "    future_dates = model.make_future_dataframe(periods=52, freq='W')\n",
    "    forecast = model.predict(future_dates)\n",
    "    \n",
    "    # Store the forecast in the dictionary for further analysis\n",
    "    forecasts[stockcode] = forecast\n",
    "\n",
    "# The `forecasts` dictionary now contains Prophet model results for each A-item\n"
   ]
  },
  {
   "cell_type": "markdown",
   "metadata": {},
   "source": [
    "### Inventory Optimisation Algorithm"
   ]
  },
  {
   "cell_type": "markdown",
   "metadata": {},
   "source": [
    "#### 1) Economic Order Quantity (EOQ)\n",
    "\n",
    "The EOQ is used to determine the optimal order size that minimizes total inventory costs, which include both ordering and holding costs. By ordering the ideal quantity, businesses can reduce the frequency of orders while avoiding excess stock.\n",
    "\n",
    "The EOQ formula is given by:\n",
    "\n",
    "$$\n",
    "\\text{EOQ} = \\sqrt{\\frac{2 \\times D \\times S}{H}}\n",
    "$$\n",
    "\n",
    "Where:\n",
    "\n",
    "D = Total demand for the product (units per period)\n",
    "\n",
    "S = Ordering cost per order\n",
    "\n",
    "H = Holding cost per unit per period\n"
   ]
  },
  {
   "cell_type": "markdown",
   "metadata": {},
   "source": [
    "#### 2) Safety Stock\n",
    "Safety Stock is an additional quantity of inventory kept on hand to protect against uncertainties in demand and supply. It acts as a buffer to prevent stockouts during unexpected spikes in demand or delays in replenishment.\n",
    "\n",
    "$$\n",
    "\\text{Safety Stock} = Z \\times \\sigma_d \\times \\sqrt{L}\n",
    "$$\n",
    "\n",
    "Where:\n",
    "\n",
    "Z = Service level factor\n",
    "\n",
    "**$ \\sigma_d $**: The standard deviation of demand during lead time.\n",
    "\n",
    " L: The lead time, or the time it takes for an order to be received after it is placed."
   ]
  },
  {
   "cell_type": "markdown",
   "metadata": {},
   "source": [
    "#### 3) Reorder Point (ROP)\n",
    "\n",
    "The **Reorder Point (ROP)** is the inventory level at which a new order should be placed to replenish stock before it runs out. This ensures that you have enough inventory on hand to cover demand during the lead time, factoring in safety stock as a buffer.\n",
    "\n",
    "$$\n",
    "\\text{ROP} = \\text{Lead Time Demand} + \\text{Safety Stock}\n",
    "$$\n",
    "\n",
    "Where:\n",
    "\n",
    "- **Lead Time Demand**: The expected demand during the lead time, calculated as the average demand per period multiplied by the lead time.\n",
    "- **Safety Stock**: The additional inventory kept on hand to account for demand and supply variability.\n",
    "\n"
   ]
  },
  {
   "cell_type": "code",
   "execution_count": 245,
   "metadata": {},
   "outputs": [],
   "source": [
    "# We assume that\n",
    "ordering_cost_per_order = 50\n",
    "holding_cost_per_unit_per_week = 0.5\n",
    "lead_time_weeks = 2\n",
    "\n",
    "# Dictionary to store inventory strategies for each A-item\n",
    "inventory_strategies = {}\n",
    "\n",
    "for stockcode, forecast in forecasts.items():\n",
    "    # Average forecasted demand for EOQ calculation\n",
    "    average_weekly_demand = forecast['yhat'].mean()\n",
    "    \n",
    "    # EOQ Calculation\n",
    "    eoq = np.sqrt((2 * average_weekly_demand * ordering_cost_per_order) / holding_cost_per_unit_per_week)\n",
    "    \n",
    "    # Safety Stock calculation using forecast variability\n",
    "    forecast_std_dev = (forecast['yhat_upper'] - forecast['yhat_lower']).mean() / 2\n",
    "    safety_stock = forecast_std_dev * np.sqrt(lead_time_weeks)\n",
    "    \n",
    "    # Reorder Point (ROP) Calculation\n",
    "    lead_time_demand = average_weekly_demand * lead_time_weeks\n",
    "    rop = lead_time_demand + safety_stock\n",
    "    \n",
    "    # Store the inventory strategies\n",
    "    inventory_strategies[stockcode] = {\n",
    "        'EOQ': eoq,\n",
    "        'Safety_Stock': safety_stock,\n",
    "        'ROP': rop\n",
    "    }\n",
    "\n",
    "# The `inventory_strategies` dictionary now contains EOQ, Safety Stock, and ROP for each A-item\n"
   ]
  },
  {
   "cell_type": "markdown",
   "metadata": {},
   "source": [
    "- **ROP check:** For each A-item, we check if inventory levels are at or below the ROP.\n",
    "- **Reordering:** If inventory falls below the ROP, the system places an order for the EOQ quantity.\n",
    "- **Reorder Log:** Keeps a log of all reorders, providing visibility into inventory changes and reorder points."
   ]
  },
  {
   "cell_type": "code",
   "execution_count": 246,
   "metadata": {},
   "outputs": [
    {
     "data": {
      "text/html": [
       "<div>\n",
       "<style scoped>\n",
       "    .dataframe tbody tr th:only-of-type {\n",
       "        vertical-align: middle;\n",
       "    }\n",
       "\n",
       "    .dataframe tbody tr th {\n",
       "        vertical-align: top;\n",
       "    }\n",
       "\n",
       "    .dataframe thead th {\n",
       "        text-align: right;\n",
       "    }\n",
       "</style>\n",
       "<table border=\"1\" class=\"dataframe\">\n",
       "  <thead>\n",
       "    <tr style=\"text-align: right;\">\n",
       "      <th></th>\n",
       "      <th>StockCode</th>\n",
       "      <th>Order_Quantity</th>\n",
       "      <th>New_Inventory_Level</th>\n",
       "    </tr>\n",
       "  </thead>\n",
       "  <tbody>\n",
       "    <tr>\n",
       "      <th>0</th>\n",
       "      <td>84826</td>\n",
       "      <td>6730.826091</td>\n",
       "      <td>21747.826091</td>\n",
       "    </tr>\n",
       "  </tbody>\n",
       "</table>\n",
       "</div>"
      ],
      "text/plain": [
       "  StockCode  Order_Quantity  New_Inventory_Level\n",
       "0     84826     6730.826091         21747.826091"
      ]
     },
     "execution_count": 246,
     "metadata": {},
     "output_type": "execute_result"
    }
   ],
   "source": [
    "current_inventory_levels = generate_inventory_levels(product_demand).set_index('StockCode')['EstimatedInventory'].to_dict()\n",
    "\n",
    "# Function to check inventory levels and reorder if below ROP\n",
    "reorder_log = []\n",
    "\n",
    "for stockcode, forecast in forecasts.items():\n",
    "    # Access inventory strategy for this A-item\n",
    "    strategy = inventory_strategies[stockcode]\n",
    "    eoq = strategy['EOQ']\n",
    "    rop = strategy['ROP']\n",
    "    \n",
    "    # Check if inventory level is at or below ROP\n",
    "    if current_inventory_levels[stockcode] <= rop:\n",
    "        # Place order for EOQ units\n",
    "        order_quantity = eoq\n",
    "        current_inventory_levels[stockcode] += order_quantity\n",
    "        \n",
    "        # Log the reorder\n",
    "        reorder_log.append({\n",
    "            'StockCode': stockcode,\n",
    "            'Order_Quantity': order_quantity,\n",
    "            'New_Inventory_Level': current_inventory_levels[stockcode]\n",
    "        })\n",
    "\n",
    "# Display reorder log for review\n",
    "reorder_df = pd.DataFrame(reorder_log)\n",
    "reorder_df\n"
   ]
  },
  {
   "cell_type": "markdown",
   "metadata": {},
   "source": [
    "#### Practical Tips\n",
    "- **Set Up Alerts:** For each A-item, it checks if inventory levels are at or below the ROP.\n",
    "- **Adjust Based on Demand Trends:** If inventory falls below the ROP, the system places an order for the EOQ quantity."
   ]
  },
  {
   "cell_type": "markdown",
   "metadata": {},
   "source": [
    "### New Average Inventory Turnover Ratio"
   ]
  },
  {
   "cell_type": "code",
   "execution_count": 247,
   "metadata": {},
   "outputs": [
    {
     "name": "stdout",
     "output_type": "stream",
     "text": [
      "Updated Average Inventory Turnover Ratio: 1.01\n"
     ]
    }
   ],
   "source": [
    "# Parameters for simulation\n",
    "forecast_period = 52  # Number of weeks in the forecast period\n",
    "\n",
    "current_inventory_levels = generate_inventory_levels(product_demand).set_index('StockCode')['EstimatedInventory'].to_dict()\n",
    "\n",
    "# Dictionary to store inventory levels over time for calculating the average\n",
    "inventory_tracking = {stockcode: [] for stockcode in current_inventory_levels.keys()}\n",
    "\n",
    "# Simulate inventory management for each week in the forecast period\n",
    "for stockcode, forecast in forecasts.items():\n",
    "    # Access the inventory strategy for this item\n",
    "    strategy = inventory_strategies[stockcode]\n",
    "    eoq = strategy['EOQ']\n",
    "    rop = strategy['ROP']\n",
    "    \n",
    "    # Starting inventory level\n",
    "    inventory_level = current_inventory_levels[stockcode]\n",
    "    \n",
    "    # Iterate over each week in the forecast period\n",
    "    for week in range(forecast_period):\n",
    "        # Predicted weekly demand for this week from the forecast\n",
    "        weekly_demand = forecast['yhat'].iloc[week]\n",
    "        \n",
    "        # Reduce inventory by the weekly demand\n",
    "        inventory_level -= weekly_demand\n",
    "        \n",
    "        # Log inventory level for tracking average inventory over time\n",
    "        inventory_tracking[stockcode].append(max(inventory_level, 0))  # Ensure inventory doesn't go negative\n",
    "        \n",
    "        # After fulfilling demand, check if we need to reorder\n",
    "        if inventory_level <= rop:\n",
    "            # Place an order for EOQ units\n",
    "            inventory_level += eoq\n",
    "\n",
    "# Calculate the average inventory level over the period for each product\n",
    "average_inventory_levels = {stockcode: np.mean(levels) for stockcode, levels in inventory_tracking.items()}\n",
    "\n",
    "# Merge the average inventory levels with the total demand to calculate turnover ratio\n",
    "turnover_data = pd.DataFrame({\n",
    "    'StockCode': average_inventory_levels.keys(),\n",
    "    'AverageInventoryLevel': average_inventory_levels.values()\n",
    "}).merge(product_demand[['StockCode', 'TotalDemand']], on='StockCode')\n",
    "\n",
    "# Calculate Inventory Turnover Ratio\n",
    "turnover_data['InventoryTurnoverRatio'] = turnover_data['TotalDemand'] / turnover_data['AverageInventoryLevel']\n",
    "\n",
    "# Calculate the overall average inventory turnover ratio\n",
    "average_turnover_ratio = turnover_data['InventoryTurnoverRatio'].mean()\n",
    "\n",
    "print(f\"Updated Average Inventory Turnover Ratio: {average_turnover_ratio:.2f}\")\n",
    "\n"
   ]
  },
  {
   "cell_type": "markdown",
   "metadata": {},
   "source": [
    "The increase in the average inventory turnover ratio from 0.91 to 1.01 highlights the success of our demand forecasting and inventory optimization strategy. A turnover rate above 1 means inventory is now moving faster and more in line with demand, reducing excess stock and associated holding costs. This 10% improvement not only cuts costs but also frees up cash flow and lowers the risk of obsolescence, making our inventory management leaner and more efficient."
   ]
  }
 ],
 "metadata": {
  "kernelspec": {
   "display_name": "Python 3",
   "language": "python",
   "name": "python3"
  },
  "language_info": {
   "codemirror_mode": {
    "name": "ipython",
    "version": 3
   },
   "file_extension": ".py",
   "mimetype": "text/x-python",
   "name": "python",
   "nbconvert_exporter": "python",
   "pygments_lexer": "ipython3",
   "version": "3.12.2"
  }
 },
 "nbformat": 4,
 "nbformat_minor": 2
}
