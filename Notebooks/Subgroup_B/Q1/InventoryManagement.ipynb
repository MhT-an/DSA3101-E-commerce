{
 "cells": [
  {
   "cell_type": "markdown",
   "metadata": {},
   "source": [
    "# Inventory Management"
   ]
  },
  {
   "cell_type": "markdown",
   "metadata": {},
   "source": [
    "## High Demand Products"
   ]
  },
  {
   "cell_type": "markdown",
   "metadata": {},
   "source": [
    "\n",
    "In inventory management, it is essential to prioritize products based on demand to optimize stock levels and reduce costs. High-demand products, which drive a significant portion of sales, require frequent monitoring to ensure stock availability and avoid costly stockouts. In contrast, low- and medium-demand products can be managed with less frequent checks. Our code focuses specifically on high-demand products to maintain efficient inventory turnover and prevent disruptions in supply for these key items, as managing them closely has the greatest impact on overall business performance."
   ]
  },
  {
   "cell_type": "markdown",
   "metadata": {},
   "source": [
    "## Average Turnover Rate\n",
    "The inventory turnover ratio is a key metric that shows how efficiently a company manages its inventory. It measures how many times, on average, inventory is sold and replaced over a specific period (usually one year). A higher turnover ratio generally indicates effective inventory management, meaning the company is selling goods quickly and not overstocking. Conversely, a lower turnover ratio can suggest excess inventory, which ties up cash and increases holding costs."
   ]
  },
  {
   "cell_type": "markdown",
   "metadata": {},
   "source": [
    "\n",
    "\n",
    "The inventory turnover ratio is calculated as:\n",
    "\n",
    "<div align=\"center\">\n",
    "\n",
    "$$\n",
    "\\text{Inventory Turnover Ratio} = \\frac{\\text{Total Demand}}{\\text{Average Inventory Level}}\n",
    "$$\n",
    "\n",
    "</div>\n",
    "\n",
    "\n",
    "​\n",
    " \n",
    "- Total Demand represents the total amount of inventory sold during the period.\n",
    "- Average Inventory Level is typically calculated as the average of the inventory at the beginning and end of the period.\n"
   ]
  },
  {
   "cell_type": "markdown",
   "metadata": {},
   "source": [
    "## Current Turnover Ratio"
   ]
  },
  {
   "cell_type": "markdown",
   "metadata": {},
   "source": [
    "Let's calculate the current turnover ratio of products with high demand."
   ]
  },
  {
   "cell_type": "code",
   "execution_count": 2,
   "metadata": {},
   "outputs": [
    {
     "name": "stderr",
     "output_type": "stream",
     "text": [
      "/Library/Frameworks/Python.framework/Versions/3.12/lib/python3.12/site-packages/tqdm/auto.py:21: TqdmWarning: IProgress not found. Please update jupyter and ipywidgets. See https://ipywidgets.readthedocs.io/en/stable/user_install.html\n",
      "  from .autonotebook import tqdm as notebook_tqdm\n"
     ]
    }
   ],
   "source": [
    "import pandas as pd\n",
    "import requests\n",
    "from io import StringIO\n",
    "import certifi\n",
    "import matplotlib.pyplot as plt\n",
    "from prophet import Prophet\n",
    "import numpy as np"
   ]
  },
  {
   "cell_type": "markdown",
   "metadata": {},
   "source": [
    "We categorise our products into 3 groups: A, B and C.\n",
    "\n",
    "- A-items: High demand products, top 20% of products that contribute the most to total demand.\n",
    "- B-items: Medium-demand products, accounting for the next 30%.\n",
    "- C-items: Low-demand products, comprising the remaining 50%.\n",
    "\n",
    "We will focus on the A-items"
   ]
  },
  {
   "cell_type": "code",
   "execution_count": 3,
   "metadata": {},
   "outputs": [
    {
     "data": {
      "text/html": [
       "<div>\n",
       "<style scoped>\n",
       "    .dataframe tbody tr th:only-of-type {\n",
       "        vertical-align: middle;\n",
       "    }\n",
       "\n",
       "    .dataframe tbody tr th {\n",
       "        vertical-align: top;\n",
       "    }\n",
       "\n",
       "    .dataframe thead th {\n",
       "        text-align: right;\n",
       "    }\n",
       "</style>\n",
       "<table border=\"1\" class=\"dataframe\">\n",
       "  <thead>\n",
       "    <tr style=\"text-align: right;\">\n",
       "      <th></th>\n",
       "      <th>StockCode</th>\n",
       "      <th>TotalDemand</th>\n",
       "      <th>TotalPrice</th>\n",
       "      <th>Cumulative_Demand</th>\n",
       "      <th>Demand_Percentage</th>\n",
       "      <th>ABC_Category</th>\n",
       "    </tr>\n",
       "  </thead>\n",
       "  <tbody>\n",
       "    <tr>\n",
       "      <th>1115</th>\n",
       "      <td>22197</td>\n",
       "      <td>56427</td>\n",
       "      <td>50967.92</td>\n",
       "      <td>56427</td>\n",
       "      <td>0.010512</td>\n",
       "      <td>A</td>\n",
       "    </tr>\n",
       "    <tr>\n",
       "      <th>2927</th>\n",
       "      <td>84077</td>\n",
       "      <td>53751</td>\n",
       "      <td>13560.09</td>\n",
       "      <td>110178</td>\n",
       "      <td>0.020525</td>\n",
       "      <td>A</td>\n",
       "    </tr>\n",
       "    <tr>\n",
       "      <th>3418</th>\n",
       "      <td>85099B</td>\n",
       "      <td>47260</td>\n",
       "      <td>92175.79</td>\n",
       "      <td>157438</td>\n",
       "      <td>0.029329</td>\n",
       "      <td>A</td>\n",
       "    </tr>\n",
       "    <tr>\n",
       "      <th>3438</th>\n",
       "      <td>85123A</td>\n",
       "      <td>39067</td>\n",
       "      <td>97838.45</td>\n",
       "      <td>196505</td>\n",
       "      <td>0.036607</td>\n",
       "      <td>A</td>\n",
       "    </tr>\n",
       "    <tr>\n",
       "      <th>3216</th>\n",
       "      <td>84879</td>\n",
       "      <td>36282</td>\n",
       "      <td>58792.42</td>\n",
       "      <td>232787</td>\n",
       "      <td>0.043366</td>\n",
       "      <td>A</td>\n",
       "    </tr>\n",
       "  </tbody>\n",
       "</table>\n",
       "</div>"
      ],
      "text/plain": [
       "     StockCode  TotalDemand  TotalPrice  Cumulative_Demand  Demand_Percentage  \\\n",
       "1115     22197        56427    50967.92              56427           0.010512   \n",
       "2927     84077        53751    13560.09             110178           0.020525   \n",
       "3418    85099B        47260    92175.79             157438           0.029329   \n",
       "3438    85123A        39067    97838.45             196505           0.036607   \n",
       "3216     84879        36282    58792.42             232787           0.043366   \n",
       "\n",
       "     ABC_Category  \n",
       "1115            A  \n",
       "2927            A  \n",
       "3418            A  \n",
       "3438            A  \n",
       "3216            A  "
      ]
     },
     "execution_count": 3,
     "metadata": {},
     "output_type": "execute_result"
    }
   ],
   "source": [
    "# Define the Google Drive link and convert it to a direct download link\n",
    "csv_url = 'https://drive.google.com/file/d/1GB-if5xcQM64dV4O6_H-HjcgOK21Z9j2/view?usp=sharing'\n",
    "file_id = csv_url.split('/')[-2]\n",
    "dwn_url = f'https://drive.google.com/uc?id={file_id}'\n",
    "\n",
    "# Get the CSV data with SSL verification\n",
    "response = requests.get(dwn_url, verify=certifi.where()).text\n",
    "\n",
    "# Load the CSV content directly into a pandas DataFrame without saving it\n",
    "csv_raw = StringIO(response)\n",
    "data = pd.read_csv(csv_raw)\n",
    "data['Invoice Date'] = pd.to_datetime(data['Invoice Date'])\n",
    "\n",
    "# Calculate total demand (quantity sold) and total sales value for each StockCode\n",
    "product_demand = data.groupby('StockCode').agg({\n",
    "    'Quantity': 'sum',  # Total quantity sold\n",
    "    'TotalPrice': 'sum'  # Total revenue\n",
    "}).reset_index()\n",
    "\n",
    "# Rank products by total demand in descending order for ABC analysis\n",
    "product_demand = product_demand.sort_values(by='Quantity', ascending=False)\n",
    "product_demand['Cumulative_Demand'] = product_demand['Quantity'].cumsum()\n",
    "total_demand = product_demand['Quantity'].sum()\n",
    "\n",
    "# Rename 'Quantity' to 'TotalDemand' for clarity\n",
    "product_demand.rename(columns={'Quantity': 'TotalDemand'}, inplace=True)\n",
    "\n",
    "\n",
    "# Classify products based on cumulative demand percentages\n",
    "product_demand['Demand_Percentage'] = product_demand['Cumulative_Demand'] / total_demand\n",
    "product_demand['ABC_Category'] = pd.cut(\n",
    "    product_demand['Demand_Percentage'],\n",
    "    bins=[0, 0.2, 0.5, 1.0],  # Top 20%, next 30%, and remaining 50%\n",
    "    labels=['A', 'B', 'C']\n",
    ")\n",
    "\n",
    "product_demand.head()\n"
   ]
  },
  {
   "cell_type": "markdown",
   "metadata": {},
   "source": [
    "### Generate Synthetic Data to estimate the current inventory levels of the products"
   ]
  },
  {
   "cell_type": "code",
   "execution_count": 4,
   "metadata": {},
   "outputs": [
    {
     "data": {
      "text/html": [
       "<div>\n",
       "<style scoped>\n",
       "    .dataframe tbody tr th:only-of-type {\n",
       "        vertical-align: middle;\n",
       "    }\n",
       "\n",
       "    .dataframe tbody tr th {\n",
       "        vertical-align: top;\n",
       "    }\n",
       "\n",
       "    .dataframe thead th {\n",
       "        text-align: right;\n",
       "    }\n",
       "</style>\n",
       "<table border=\"1\" class=\"dataframe\">\n",
       "  <thead>\n",
       "    <tr style=\"text-align: right;\">\n",
       "      <th></th>\n",
       "      <th>StockCode</th>\n",
       "      <th>TotalDemand</th>\n",
       "      <th>EstimatedInventory</th>\n",
       "    </tr>\n",
       "  </thead>\n",
       "  <tbody>\n",
       "    <tr>\n",
       "      <th>1115</th>\n",
       "      <td>22197</td>\n",
       "      <td>56427</td>\n",
       "      <td>62082</td>\n",
       "    </tr>\n",
       "    <tr>\n",
       "      <th>2927</th>\n",
       "      <td>84077</td>\n",
       "      <td>53751</td>\n",
       "      <td>59135</td>\n",
       "    </tr>\n",
       "    <tr>\n",
       "      <th>3418</th>\n",
       "      <td>85099B</td>\n",
       "      <td>47260</td>\n",
       "      <td>51999</td>\n",
       "    </tr>\n",
       "    <tr>\n",
       "      <th>3438</th>\n",
       "      <td>85123A</td>\n",
       "      <td>39067</td>\n",
       "      <td>42991</td>\n",
       "    </tr>\n",
       "    <tr>\n",
       "      <th>3216</th>\n",
       "      <td>84879</td>\n",
       "      <td>36282</td>\n",
       "      <td>39919</td>\n",
       "    </tr>\n",
       "  </tbody>\n",
       "</table>\n",
       "</div>"
      ],
      "text/plain": [
       "     StockCode  TotalDemand  EstimatedInventory\n",
       "1115     22197        56427               62082\n",
       "2927     84077        53751               59135\n",
       "3418    85099B        47260               51999\n",
       "3438    85123A        39067               42991\n",
       "3216     84879        36282               39919"
      ]
     },
     "execution_count": 4,
     "metadata": {},
     "output_type": "execute_result"
    }
   ],
   "source": [
    "# Set a random seed for reproducibility\n",
    "np.random.seed(42)\n",
    "\n",
    "a_items_data = product_demand[product_demand['ABC_Category'] == 'A'][['StockCode', 'TotalDemand']]\n",
    "\n",
    "# scale_factor = 1.1 for high demand products to reduce the risk of stockouts\n",
    "def generate_inventory_levels(product_data, scale_factor=1.1, base_stock=10):\n",
    "    # Calculate the estimated inventory levels based on TotalDemand\n",
    "    product_data['EstimatedInventory'] = (product_data['TotalDemand'] * scale_factor \n",
    "                                          + np.random.normal(loc=base_stock, scale=5, size=len(product_data)))\n",
    "    \n",
    "    # Round and convert to integer, ensuring no negative stock levels\n",
    "    product_data['EstimatedInventory'] = product_data['EstimatedInventory'].round().astype(int)\n",
    "    product_data['EstimatedInventory'] = product_data['EstimatedInventory'].clip(lower=0)\n",
    "    \n",
    "    return product_data[['StockCode', 'TotalDemand', 'EstimatedInventory']]  # Keep TotalDemand\n",
    "\n",
    "# Generate synthetic inventory levels with TotalDemand included\n",
    "synthetic_data = generate_inventory_levels(a_items_data)\n",
    "\n",
    "synthetic_data.head()\n"
   ]
  },
  {
   "cell_type": "code",
   "execution_count": 5,
   "metadata": {},
   "outputs": [
    {
     "name": "stdout",
     "output_type": "stream",
     "text": [
      "Average Inventory Turnover Ratio for A-items: 0.91\n"
     ]
    }
   ],
   "source": [
    "# Calculate Inventory Turnover Ratio for each A-item\n",
    "synthetic_data['InventoryTurnoverRatio'] = synthetic_data['TotalDemand'] / synthetic_data['EstimatedInventory']\n",
    "\n",
    "\n",
    "# Calculate the overall average inventory turnover ratio for A-items\n",
    "average_turnover_ratio_a_items = synthetic_data['InventoryTurnoverRatio'].mean()\n",
    "\n",
    "# Display the average turnover ratio for A-items\n",
    "print(f\"Average Inventory Turnover Ratio for A-items: {average_turnover_ratio_a_items:.2f}\")"
   ]
  },
  {
   "cell_type": "markdown",
   "metadata": {},
   "source": [
    "\n",
    "Currently, the UCI Online Retail set has an Average Inventory Turnover Ratio of less than 1, which is problematic because it indicates that inventory is turning over less than once per year, leading to high holding costs and cash tied up in unsold stock. This low turnover suggests inefficiencies, with products at risk of obsolescence and a strain on cash flow that could otherwise be invested in growth."
   ]
  },
  {
   "cell_type": "markdown",
   "metadata": {},
   "source": [
    "## How can we optimize inventory levels to minimize costs while ensuring product availability?"
   ]
  },
  {
   "cell_type": "markdown",
   "metadata": {},
   "source": [
    "In this section, we develop a demand forecasting model and an inventory optimization algorithm aimed at increasing the inventory turnover ratio. By forecasting demand more accurately, we can better align stock levels with actual sales, reducing excess inventory. The optimization algorithm calculates reorder points, safety stock, and economic order quantities (EOQ) to maintain lean inventory levels, minimize holding costs, and ensure products move quickly through the inventory cycle. Together, these methods are designed to improve inventory efficiency and boost turnover."
   ]
  },
  {
   "cell_type": "markdown",
   "metadata": {},
   "source": [
    "### Demand Forecasting Model"
   ]
  },
  {
   "cell_type": "code",
   "execution_count": 6,
   "metadata": {},
   "outputs": [
    {
     "name": "stderr",
     "output_type": "stream",
     "text": [
      "20:04:45 - cmdstanpy - INFO - Chain [1] start processing\n",
      "20:04:45 - cmdstanpy - INFO - Chain [1] done processing\n",
      "20:04:45 - cmdstanpy - INFO - Chain [1] start processing\n",
      "20:04:45 - cmdstanpy - INFO - Chain [1] done processing\n",
      "20:04:45 - cmdstanpy - INFO - Chain [1] start processing\n",
      "20:04:45 - cmdstanpy - INFO - Chain [1] done processing\n",
      "20:04:45 - cmdstanpy - INFO - Chain [1] start processing\n",
      "20:04:45 - cmdstanpy - INFO - Chain [1] done processing\n",
      "20:04:45 - cmdstanpy - INFO - Chain [1] start processing\n",
      "20:04:45 - cmdstanpy - INFO - Chain [1] done processing\n",
      "20:04:45 - cmdstanpy - INFO - Chain [1] start processing\n",
      "20:04:45 - cmdstanpy - INFO - Chain [1] done processing\n",
      "20:04:46 - cmdstanpy - INFO - Chain [1] start processing\n",
      "20:04:46 - cmdstanpy - INFO - Chain [1] done processing\n",
      "20:04:46 - cmdstanpy - INFO - Chain [1] start processing\n",
      "20:04:46 - cmdstanpy - INFO - Chain [1] done processing\n",
      "20:04:46 - cmdstanpy - INFO - Chain [1] start processing\n",
      "20:04:46 - cmdstanpy - INFO - Chain [1] done processing\n",
      "20:04:46 - cmdstanpy - INFO - Chain [1] start processing\n",
      "20:04:46 - cmdstanpy - INFO - Chain [1] done processing\n",
      "20:04:46 - cmdstanpy - INFO - Chain [1] start processing\n",
      "20:04:46 - cmdstanpy - INFO - Chain [1] done processing\n",
      "20:04:46 - cmdstanpy - INFO - Chain [1] start processing\n",
      "20:04:46 - cmdstanpy - INFO - Chain [1] done processing\n",
      "20:04:46 - cmdstanpy - INFO - Chain [1] start processing\n",
      "20:04:46 - cmdstanpy - INFO - Chain [1] done processing\n",
      "20:04:46 - cmdstanpy - INFO - Chain [1] start processing\n",
      "20:04:46 - cmdstanpy - INFO - Chain [1] done processing\n",
      "20:04:47 - cmdstanpy - INFO - Chain [1] start processing\n",
      "20:04:47 - cmdstanpy - INFO - Chain [1] done processing\n",
      "20:04:47 - cmdstanpy - INFO - Chain [1] start processing\n",
      "20:04:47 - cmdstanpy - INFO - Chain [1] done processing\n",
      "20:04:47 - cmdstanpy - INFO - Chain [1] start processing\n",
      "20:04:47 - cmdstanpy - INFO - Chain [1] done processing\n",
      "20:04:47 - cmdstanpy - INFO - Chain [1] start processing\n",
      "20:04:47 - cmdstanpy - INFO - Chain [1] done processing\n",
      "20:04:47 - cmdstanpy - INFO - Chain [1] start processing\n",
      "20:04:47 - cmdstanpy - INFO - Chain [1] done processing\n",
      "20:04:47 - cmdstanpy - INFO - Chain [1] start processing\n",
      "20:04:47 - cmdstanpy - INFO - Chain [1] done processing\n",
      "20:04:47 - cmdstanpy - INFO - Chain [1] start processing\n",
      "20:04:47 - cmdstanpy - INFO - Chain [1] done processing\n",
      "20:04:48 - cmdstanpy - INFO - Chain [1] start processing\n",
      "20:04:48 - cmdstanpy - INFO - Chain [1] done processing\n",
      "20:04:48 - cmdstanpy - INFO - Chain [1] start processing\n",
      "20:04:48 - cmdstanpy - INFO - Chain [1] done processing\n",
      "20:04:48 - cmdstanpy - INFO - Chain [1] start processing\n",
      "20:04:48 - cmdstanpy - INFO - Chain [1] done processing\n",
      "20:04:48 - cmdstanpy - INFO - Chain [1] start processing\n",
      "20:04:48 - cmdstanpy - INFO - Chain [1] done processing\n",
      "20:04:48 - cmdstanpy - INFO - Chain [1] start processing\n",
      "20:04:48 - cmdstanpy - INFO - Chain [1] done processing\n",
      "20:04:48 - cmdstanpy - INFO - Chain [1] start processing\n",
      "20:04:48 - cmdstanpy - INFO - Chain [1] done processing\n",
      "20:04:48 - cmdstanpy - INFO - Chain [1] start processing\n",
      "20:04:48 - cmdstanpy - INFO - Chain [1] done processing\n",
      "20:04:49 - cmdstanpy - INFO - Chain [1] start processing\n",
      "20:04:49 - cmdstanpy - INFO - Chain [1] done processing\n",
      "20:04:49 - cmdstanpy - INFO - Chain [1] start processing\n",
      "20:04:49 - cmdstanpy - INFO - Chain [1] done processing\n",
      "20:04:49 - cmdstanpy - INFO - Chain [1] start processing\n",
      "20:04:49 - cmdstanpy - INFO - Chain [1] done processing\n",
      "20:04:49 - cmdstanpy - INFO - Chain [1] start processing\n",
      "20:04:49 - cmdstanpy - INFO - Chain [1] done processing\n",
      "20:04:49 - cmdstanpy - INFO - Chain [1] start processing\n",
      "20:04:49 - cmdstanpy - INFO - Chain [1] done processing\n",
      "20:04:49 - cmdstanpy - INFO - Chain [1] start processing\n",
      "20:04:49 - cmdstanpy - INFO - Chain [1] done processing\n",
      "20:04:49 - cmdstanpy - INFO - Chain [1] start processing\n",
      "20:04:49 - cmdstanpy - INFO - Chain [1] done processing\n",
      "20:04:49 - cmdstanpy - INFO - Chain [1] start processing\n",
      "20:05:05 - cmdstanpy - INFO - Chain [1] done processing\n",
      "20:05:05 - cmdstanpy - INFO - Chain [1] start processing\n",
      "20:05:05 - cmdstanpy - INFO - Chain [1] done processing\n",
      "20:05:05 - cmdstanpy - INFO - Chain [1] start processing\n",
      "20:05:05 - cmdstanpy - INFO - Chain [1] done processing\n",
      "20:05:05 - cmdstanpy - INFO - Chain [1] start processing\n",
      "20:05:05 - cmdstanpy - INFO - Chain [1] done processing\n",
      "20:05:05 - cmdstanpy - INFO - Chain [1] start processing\n",
      "20:05:05 - cmdstanpy - INFO - Chain [1] done processing\n",
      "20:05:05 - cmdstanpy - INFO - Chain [1] start processing\n",
      "20:05:05 - cmdstanpy - INFO - Chain [1] done processing\n",
      "20:05:05 - cmdstanpy - INFO - Chain [1] start processing\n",
      "20:05:05 - cmdstanpy - INFO - Chain [1] done processing\n",
      "20:05:06 - cmdstanpy - INFO - Chain [1] start processing\n",
      "20:05:06 - cmdstanpy - INFO - Chain [1] done processing\n",
      "20:05:06 - cmdstanpy - INFO - Chain [1] start processing\n",
      "20:05:06 - cmdstanpy - INFO - Chain [1] done processing\n",
      "20:05:06 - cmdstanpy - INFO - Chain [1] start processing\n",
      "20:05:06 - cmdstanpy - INFO - Chain [1] done processing\n",
      "20:05:06 - cmdstanpy - INFO - Chain [1] start processing\n",
      "20:05:06 - cmdstanpy - INFO - Chain [1] done processing\n",
      "20:05:06 - cmdstanpy - INFO - Chain [1] start processing\n",
      "20:05:06 - cmdstanpy - INFO - Chain [1] done processing\n",
      "20:05:06 - cmdstanpy - INFO - Chain [1] start processing\n",
      "20:05:06 - cmdstanpy - INFO - Chain [1] done processing\n",
      "20:05:06 - cmdstanpy - INFO - Chain [1] start processing\n",
      "20:05:06 - cmdstanpy - INFO - Chain [1] done processing\n",
      "20:05:07 - cmdstanpy - INFO - Chain [1] start processing\n",
      "20:05:07 - cmdstanpy - INFO - Chain [1] done processing\n",
      "20:05:07 - cmdstanpy - INFO - Chain [1] start processing\n",
      "20:05:07 - cmdstanpy - INFO - Chain [1] done processing\n",
      "20:05:07 - cmdstanpy - INFO - Chain [1] start processing\n",
      "20:05:07 - cmdstanpy - INFO - Chain [1] done processing\n",
      "20:05:07 - cmdstanpy - INFO - Chain [1] start processing\n",
      "20:05:07 - cmdstanpy - INFO - Chain [1] done processing\n",
      "20:05:07 - cmdstanpy - INFO - Chain [1] start processing\n",
      "20:05:07 - cmdstanpy - INFO - Chain [1] done processing\n"
     ]
    }
   ],
   "source": [
    "# Filter the dataset for A-items based on the ABC analysis\n",
    "a_items = product_demand[product_demand['ABC_Category'] == 'A']['StockCode']\n",
    "\n",
    "# Dictionary to store forecasts for each A-item\n",
    "forecasts = {}\n",
    "\n",
    "for stockcode in a_items:\n",
    "    # Prepare the product-specific time series data\n",
    "    product_data = data[data['StockCode'] == stockcode]\n",
    "    product_data = product_data.groupby('Invoice Date')['Quantity'].sum().reset_index()\n",
    "    product_data.columns = ['ds', 'y']\n",
    "    \n",
    "    # Initialize and fit Prophet model\n",
    "    model = Prophet(yearly_seasonality=True, weekly_seasonality=True, daily_seasonality=False)\n",
    "    model.fit(product_data)\n",
    "    \n",
    "    # Create future dates for forecast (e.g., 52 weeks into the future)\n",
    "    future_dates = model.make_future_dataframe(periods=52, freq='W')\n",
    "    forecast = model.predict(future_dates)\n",
    "    \n",
    "    # Store the forecast in the dictionary for further analysis\n",
    "    forecasts[stockcode] = forecast\n",
    "\n",
    "# The `forecasts` dictionary now contains Prophet model results for each A-item\n"
   ]
  },
  {
   "cell_type": "markdown",
   "metadata": {},
   "source": [
    "### Inventory Optimisation Algorithm"
   ]
  },
  {
   "cell_type": "markdown",
   "metadata": {},
   "source": [
    "#### 1) Economic Order Quantity (EOQ)\n",
    "\n",
    "The EOQ is used to determine the optimal order size that minimizes total inventory costs, which include both ordering and holding costs. By ordering the ideal quantity, businesses can reduce the frequency of orders while avoiding excess stock.\n",
    "\n",
    "The EOQ formula is given by:\n",
    "\n",
    "$$\n",
    "\\text{EOQ} = \\sqrt{\\frac{2 \\times D \\times S}{H}}\n",
    "$$\n",
    "\n",
    "Where:\n",
    "\n",
    "D = Total demand for the product (units per period)\n",
    "\n",
    "S = Ordering cost per order\n",
    "\n",
    "H = Holding cost per unit per period\n"
   ]
  },
  {
   "cell_type": "markdown",
   "metadata": {},
   "source": [
    "#### 2) Safety Stock\n",
    "Safety Stock is an additional quantity of inventory kept on hand to protect against uncertainties in demand and supply. It acts as a buffer to prevent stockouts during unexpected spikes in demand or delays in replenishment.\n",
    "\n",
    "$$\n",
    "\\text{Safety Stock} = Z \\times \\sigma_d \\times \\sqrt{L}\n",
    "$$\n",
    "\n",
    "Where:\n",
    "\n",
    "Z = Service level factor\n",
    "\n",
    "**$ \\sigma_d $**: The standard deviation of demand during lead time.\n",
    "\n",
    " L: The lead time, or the time it takes for an order to be received after it is placed."
   ]
  },
  {
   "cell_type": "markdown",
   "metadata": {},
   "source": [
    "#### 3) Reorder Point (ROP)\n",
    "\n",
    "The ROP is the inventory level at which a new order should be placed to replenish stock before it runs out. This ensures that you have enough inventory on hand to cover demand during the lead time, factoring in safety stock as a buffer.\n",
    "\n",
    "$$\n",
    "\\text{ROP} = \\text{Lead Time Demand} + \\text{Safety Stock}\n",
    "$$\n",
    "\n",
    "Where:\n",
    "\n",
    "- Lead Time Demand: The expected demand during the lead time, calculated as the average demand per period multiplied by the lead time.\n",
    "- Safety Stock: The additional inventory kept on hand to account for demand and supply variability.\n",
    "\n"
   ]
  },
  {
   "cell_type": "code",
   "execution_count": 7,
   "metadata": {},
   "outputs": [
    {
     "name": "stderr",
     "output_type": "stream",
     "text": [
      "/var/folders/hm/csp3y_7176zb7m0yky72dwfc0000gn/T/ipykernel_15057/3249065478.py:15: RuntimeWarning: invalid value encountered in sqrt\n",
      "  eoq = np.sqrt((2 * average_weekly_demand * ordering_cost_per_order) / holding_cost_per_unit_per_week)\n"
     ]
    }
   ],
   "source": [
    "# We assume that\n",
    "ordering_cost_per_order = 50 # can range from tens to hundreds\n",
    "holding_cost_per_unit_per_week = 0.5 # affordable for Fast-Moving Inventory\n",
    "lead_time_weeks = 2 # often between 1-3 weeks\n",
    "z = 1.28 # Ensures product availability for most customer demand without excessive holding costs\n",
    "\n",
    "# Dictionary to store inventory strategies for each A-item\n",
    "inventory_strategies = {}\n",
    "\n",
    "for stockcode, forecast in forecasts.items():\n",
    "    # Average forecasted demand for EOQ calculation\n",
    "    average_weekly_demand = forecast['yhat'].mean()\n",
    "    \n",
    "    # EOQ Calculation\n",
    "    eoq = np.sqrt((2 * average_weekly_demand * ordering_cost_per_order) / holding_cost_per_unit_per_week)\n",
    "    \n",
    "    # Safety Stock calculation using forecast variability\n",
    "    forecast_std_dev = (forecast['yhat_upper'] - forecast['yhat_lower']).mean() / 2\n",
    "    # \n",
    "    safety_stock = z * forecast_std_dev * np.sqrt(lead_time_weeks) \n",
    "    \n",
    "    # ROP Calculation\n",
    "    lead_time_demand = average_weekly_demand * lead_time_weeks\n",
    "    rop = lead_time_demand + safety_stock\n",
    "    \n",
    "    # Store the inventory strategies\n",
    "    inventory_strategies[stockcode] = {\n",
    "        'EOQ': eoq,\n",
    "        'Safety_Stock': safety_stock,\n",
    "        'ROP': rop\n",
    "    }\n",
    "\n",
    "# The `inventory_strategies` dictionary now contains EOQ, Safety Stock, and ROP for each A-item\n",
    "\n"
   ]
  },
  {
   "cell_type": "markdown",
   "metadata": {},
   "source": [
    "### New Average Inventory Turnover Ratio"
   ]
  },
  {
   "cell_type": "code",
   "execution_count": 8,
   "metadata": {},
   "outputs": [
    {
     "name": "stdout",
     "output_type": "stream",
     "text": [
      "Updated Average Inventory Turnover Ratio: 1.01\n"
     ]
    },
    {
     "name": "stderr",
     "output_type": "stream",
     "text": [
      "/Library/Frameworks/Python.framework/Versions/3.12/lib/python3.12/site-packages/numpy/core/fromnumeric.py:3504: RuntimeWarning: Mean of empty slice.\n",
      "  return _methods._mean(a, axis=axis, dtype=dtype,\n",
      "/Library/Frameworks/Python.framework/Versions/3.12/lib/python3.12/site-packages/numpy/core/_methods.py:129: RuntimeWarning: invalid value encountered in scalar divide\n",
      "  ret = ret.dtype.type(ret / rcount)\n"
     ]
    }
   ],
   "source": [
    "# Parameters for simulation\n",
    "forecast_period = 52  # Number of weeks in the forecast period\n",
    "\n",
    "current_inventory_levels = generate_inventory_levels(product_demand).set_index('StockCode')['EstimatedInventory'].to_dict()\n",
    "\n",
    "# Dictionary to store inventory levels over time for calculating the average\n",
    "inventory_tracking = {stockcode: [] for stockcode in current_inventory_levels.keys()}\n",
    "\n",
    "# Simulate inventory management for each week in the forecast period\n",
    "for stockcode, forecast in forecasts.items():\n",
    "    # Access the inventory strategy for this item\n",
    "    strategy = inventory_strategies[stockcode]\n",
    "    eoq = strategy['EOQ']\n",
    "    rop = strategy['ROP']\n",
    "    \n",
    "    # Starting inventory level\n",
    "    inventory_level = current_inventory_levels[stockcode]\n",
    "    \n",
    "    # Iterate over each week in the forecast period\n",
    "    for week in range(forecast_period):\n",
    "        # Predicted weekly demand for this week from the forecast\n",
    "        weekly_demand = forecast['yhat'].iloc[week]\n",
    "        \n",
    "        # Reduce inventory by the weekly demand\n",
    "        inventory_level -= weekly_demand\n",
    "        \n",
    "        # Log inventory level for tracking average inventory over time\n",
    "        inventory_tracking[stockcode].append(max(inventory_level, 0))  # Ensure inventory doesn't go negative\n",
    "        \n",
    "        # After fulfilling demand, check if we need to reorder\n",
    "        if inventory_level <= rop:\n",
    "            # Place an order for EOQ units\n",
    "            inventory_level += eoq\n",
    "\n",
    "# Calculate the average inventory level over the period for each product\n",
    "average_inventory_levels = {stockcode: np.mean(levels) for stockcode, levels in inventory_tracking.items()}\n",
    "\n",
    "# Merge the average inventory levels with the total demand to calculate turnover ratio\n",
    "turnover_data = pd.DataFrame({\n",
    "    'StockCode': average_inventory_levels.keys(),\n",
    "    'AverageInventoryLevel': average_inventory_levels.values()\n",
    "}).merge(product_demand[['StockCode', 'TotalDemand']], on='StockCode')\n",
    "\n",
    "# Calculate Inventory Turnover Ratio\n",
    "turnover_data['InventoryTurnoverRatio'] = turnover_data['TotalDemand'] / turnover_data['AverageInventoryLevel']\n",
    "\n",
    "# Calculate the overall average inventory turnover ratio\n",
    "average_turnover_ratio = turnover_data['InventoryTurnoverRatio'].mean()\n",
    "\n",
    "print(f\"Updated Average Inventory Turnover Ratio: {average_turnover_ratio:.2f}\")\n",
    "\n"
   ]
  },
  {
   "cell_type": "markdown",
   "metadata": {},
   "source": [
    "The increase in the average inventory turnover ratio from 0.91 to 1.01 highlights the success of our demand forecasting and inventory optimization strategy. A turnover rate above 1 means inventory is now moving faster and more in line with demand, reducing excess stock and associated holding costs. This 10% improvement not only cuts costs but also frees up cash flow and lowers the risk of obsolescence, making our inventory management leaner and more efficient."
   ]
  }
 ],
 "metadata": {
  "kernelspec": {
   "display_name": "Python 3",
   "language": "python",
   "name": "python3"
  },
  "language_info": {
   "codemirror_mode": {
    "name": "ipython",
    "version": 3
   },
   "file_extension": ".py",
   "mimetype": "text/x-python",
   "name": "python",
   "nbconvert_exporter": "python",
   "pygments_lexer": "ipython3",
   "version": "3.12.2"
  }
 },
 "nbformat": 4,
 "nbformat_minor": 2
}
