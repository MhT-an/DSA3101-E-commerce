{
 "cells": [
  {
   "cell_type": "markdown",
   "metadata": {
    "id": "zEbkdkuk7y_M"
   },
   "source": [
    "# Q1. What are the key factors influencing customer purchasing behavior?\n",
    "\n",
    "**Part 1: Analyze historical sales data to identify patterns and trends.**\n",
    "- UCI dataset (seasonal purchases, impulse buying, brand loyalty)"
   ]
  },
  {
   "cell_type": "markdown",
   "metadata": {
    "id": "f9d-bJyHif1p"
   },
   "source": [
    "# **Import & Inspect Data**"
   ]
  },
  {
   "cell_type": "code",
   "execution_count": null,
   "metadata": {
    "colab": {
     "base_uri": "https://localhost:8080/"
    },
    "collapsed": true,
    "id": "inqcIYWsLH14",
    "outputId": "243d94b0-e277-4e4e-8d8e-324fe591bd9d"
   },
   "outputs": [],
   "source": [
    "# mount drive\n",
    "# from google.colab import drive\n",
    "import pandas as pd\n",
    "import matplotlib.pyplot as plt\n",
    "import seaborn as sns\n",
    "\n",
    "# drive.mount('/content/drive')"
   ]
  },
  {
   "cell_type": "code",
   "execution_count": null,
   "metadata": {
    "colab": {
     "base_uri": "https://localhost:8080/",
     "height": 310
    },
    "id": "O6a1az1hLQ8m",
    "outputId": "7c5b0fa8-a6db-4c61-8746-a6241206f4a2"
   },
   "outputs": [],
   "source": [
    "# load & inspect data\n",
    "uci_clean = pd.read_csv('../../online_retail_clean.csv')\n",
    "uci_clean.head()"
   ]
  },
  {
   "cell_type": "markdown",
   "metadata": {
    "id": "eRzaw8Edicnk"
   },
   "source": [
    "# **Data Transformation**"
   ]
  },
  {
   "cell_type": "markdown",
   "metadata": {
    "id": "4Z_bHC-qiqSq"
   },
   "source": [
    "### check for NA, change customer ID to int"
   ]
  },
  {
   "cell_type": "code",
   "execution_count": null,
   "metadata": {
    "colab": {
     "base_uri": "https://localhost:8080/"
    },
    "id": "-gfLU8ECgkte",
    "outputId": "0c9566a8-2231-4d69-ce40-2d4a8612bb95"
   },
   "outputs": [],
   "source": [
    "na_check = uci_clean.isna().sum()\n",
    "print(na_check)"
   ]
  },
  {
   "cell_type": "code",
   "execution_count": null,
   "metadata": {
    "colab": {
     "base_uri": "https://localhost:8080/",
     "height": 397
    },
    "id": "hM0fQEsXnP6c",
    "outputId": "55a9fdd6-e5d7-4bbf-c233-d86014ffdf94"
   },
   "outputs": [],
   "source": [
    "uci_clean.dtypes"
   ]
  },
  {
   "cell_type": "code",
   "execution_count": null,
   "metadata": {
    "colab": {
     "base_uri": "https://localhost:8080/",
     "height": 300
    },
    "id": "4DcBx6MXhrB-",
    "outputId": "3be57f62-8629-4ce9-807b-89ec24f34229"
   },
   "outputs": [],
   "source": [
    "uci_clean['CustomerID'] = uci_clean['CustomerID'].fillna(0).astype(int)\n",
    "uci_clean.describe()"
   ]
  },
  {
   "cell_type": "markdown",
   "metadata": {
    "id": "6n0ljIvwkz8H"
   },
   "source": [
    "### Adjust for outliers in unit price and qty"
   ]
  },
  {
   "cell_type": "code",
   "execution_count": null,
   "metadata": {
    "id": "4u_M2XqikxX2"
   },
   "outputs": [],
   "source": [
    "uci_drop = uci_clean[~uci_clean['Description'].isin(['POSTAGE', 'Manual', 'Carriage'])]\n",
    "uci_drop = uci_drop[~uci_drop['Quantity'].isin([-80995, 80995, -74215, 74215])]\n",
    "uci_drop = uci_drop[uci_drop['UnitPrice'] != uci_drop['UnitPrice'].min()]"
   ]
  },
  {
   "cell_type": "code",
   "execution_count": null,
   "metadata": {
    "colab": {
     "base_uri": "https://localhost:8080/",
     "height": 300
    },
    "id": "lvieOGSPlFqy",
    "outputId": "fd43215f-e503-4435-8c42-14085befa8e5"
   },
   "outputs": [],
   "source": [
    "uci_drop.describe()"
   ]
  },
  {
   "cell_type": "markdown",
   "metadata": {
    "id": "mO3pQ_vKyQS0"
   },
   "source": [
    "# **EDA**"
   ]
  },
  {
   "cell_type": "markdown",
   "metadata": {
    "id": "1xCcD80iySF0"
   },
   "source": [
    "Use visualizations and summary statistics to explore the data:\n",
    "\n",
    "\n",
    "- Time Series Analysis: Plot sales over time to identify trends and seasonality.\n",
    "\n",
    "- Sales by Product: Analyze sales by product categories to identify top performers.\n",
    "\n",
    "- Sales by Region: Investigate geographic patterns in sales.\n",
    "\n",
    "- Correlation Analysis: Examine relationships between variables, such as promotions and sales volume."
   ]
  },
  {
   "cell_type": "markdown",
   "metadata": {
    "id": "L07Okr0GB2nj"
   },
   "source": [
    "# (a) Seasonal Purchase Analysis - Ervin"
   ]
  },
  {
   "cell_type": "markdown",
   "metadata": {
    "id": "67ibwkIZKSGu"
   },
   "source": [
    "Hypotheses\n",
    "1. For autumn and winter, there will be more sales of cold-related items with descriptions containing keywords such as 'woolly', 'warmer', 'hot', 'cosy', 'christmas', 'gingerbread', etc.\n",
    "2. For spring and summer, there will be more sales of outdoor-related items with descriptions containing keywords such as 'picnic', 'garden', 'jam', 'polkadot', 'tea', 'easter', etc."
   ]
  },
  {
   "cell_type": "markdown",
   "metadata": {
    "id": "xRmiyXx3_UPi"
   },
   "source": [
    "To study seasonal changes in purchases, we will first identify the region that each country (of each purchase) belongs to. They are segregated as follows:\n",
    "\n",
    "**Northern Hemisphere**\n",
    "* United Kingdom\n",
    "* France\n",
    "* Netherlands\n",
    "* Germany\n",
    "* Norway\n",
    "* Ireland\n",
    "* Switzerland\n",
    "* Spain\n",
    "* Poland\n",
    "* Portugal\n",
    "* Italy\n",
    "* Belgium\n",
    "* Lithuania\n",
    "* Japan\n",
    "* Iceland\n",
    "* Channel Islands\n",
    "* Denmark\n",
    "* Cyprus\n",
    "* Sweden\n",
    "* Austria\n",
    "* Israel\n",
    "* Finland\n",
    "* Bahrain\n",
    "* Greece\n",
    "* Hong Kong\n",
    "* Czech Republic\n",
    "* Canada\n",
    "* USA\n",
    "* Malta\n",
    "\n",
    "**Southern Hemisphere**\n",
    "* Australia\n",
    "* Brazil\n",
    "* South Africa\n",
    "\n",
    "**Near the Equator**\n",
    "* Singapore\n",
    "* Lebanon\n",
    "* United Arab Emirates\n",
    "* Saudi Arabia"
   ]
  },
  {
   "cell_type": "markdown",
   "metadata": {
    "id": "hAQUHnsQ7-FN"
   },
   "source": [
    "Following this, we determine the seasonal months within each region as follows:\n",
    "\n",
    "**Seasonal purchase (northern hemisphere)**\n",
    "* WINTER: Dec-Feb inclusive\n",
    "* SPRING: Mar-May inclusive\n",
    "* SUMMER: Jun-Aug inclusive\n",
    "* AUTUMN: Sept-Nov inclusive\n",
    "\n",
    "**Seasonal purchase (southern hemisphere)**\n",
    "* WINTER: Jun-Aug inclusive\n",
    "* SPRING: Sept-Nov inclusive\n",
    "* SUMMER: Dec-Feb inclusive\n",
    "* AUTUMN: Mar-May inclusive\n",
    "\n",
    "**Seasonal purchase (near the equator)**\n",
    "* SUMMER: Jan-Dec"
   ]
  },
  {
   "cell_type": "markdown",
   "metadata": {
    "id": "LzPGbX8G-8pb"
   },
   "source": [
    "Based on the information above, we may now label the different seasons for each purchase using the specified country and the month purchased."
   ]
  },
  {
   "cell_type": "code",
   "execution_count": null,
   "metadata": {
    "colab": {
     "base_uri": "https://localhost:8080/"
    },
    "collapsed": true,
    "id": "r8wzI91cySBt",
    "outputId": "fb34dd3e-804c-4b90-9aaf-bc1750823a5a"
   },
   "outputs": [],
   "source": [
    "Q1a = uci_drop.copy()\n",
    "\n",
    "# Convert 'Invoice Date' to datetime\n",
    "Q1a['Invoice Date'] = pd.to_datetime(Q1a['Invoice Date'])\n",
    "\n",
    "# Define regions of countries\n",
    "northern_hemisphere = ['United Kingdom', 'France', 'Netherlands', 'Germany', 'Norway', 'Ireland',\n",
    "    'Switzerland', 'Spain', 'Poland', 'Portugal', 'Italy', 'Belgium', 'Lithuania',\n",
    "    'Japan', 'Iceland', 'Channel Islands', 'Denmark', 'Cyprus', 'Sweden', 'Austria',\n",
    "    'Israel', 'Finland', 'Bahrain', 'Greece', 'Hong Kong', 'Czech Republic', 'Canada',\n",
    "    'USA', 'Malta']\n",
    "\n",
    "southern_hemisphere = ['Australia', 'Brazil', 'South Africa']\n",
    "\n",
    "near_equator = ['Singapore', 'Lebanon', 'United Arab Emirates', 'Saudi Arabia']\n",
    "\n",
    "# Function to assign seasons based on country and the month in 'Invoice Date'\n",
    "def get_season(row):\n",
    "    month = row['Invoice Date'].month\n",
    "    country = row['Country']\n",
    "\n",
    "    if country in northern_hemisphere:\n",
    "        if month in [12, 1, 2]:\n",
    "            return 'Winter'\n",
    "        elif month in [3, 4, 5]:\n",
    "            return 'Spring'\n",
    "        elif month in [6, 7, 8]:\n",
    "            return 'Summer'\n",
    "        elif month in [9, 10, 11]:\n",
    "            return 'Autumn'\n",
    "\n",
    "    elif country in southern_hemisphere:\n",
    "        if month in [12, 1, 2]:\n",
    "            return 'Summer'\n",
    "        elif month in [3, 4, 5]:\n",
    "            return 'Autumn'\n",
    "        elif month in [6, 7, 8]:\n",
    "            return 'Winter'\n",
    "        elif month in [9, 10, 11]:\n",
    "            return 'Spring'\n",
    "\n",
    "    elif country in near_equator:\n",
    "        return 'Summer'\n",
    "\n",
    "    else:\n",
    "        return 'Unknown'\n",
    "\n",
    "# Apply the function to create 'Season' column\n",
    "Q1a['Season'] = Q1a.apply(get_season, axis=1)\n",
    "print(Q1a.head())"
   ]
  },
  {
   "cell_type": "markdown",
   "metadata": {
    "id": "jNO3qfP088v4"
   },
   "source": [
    "Now that an additional column 'Season' has been added to each purchase row, we may attempt to verify that cold-related items are indeed sold more during autumn and winter seasons, and outdoor-related items are sold more during spring and summer seasons.\n",
    "\n",
    "To start, we will define which products are cold-related (e.g., woolly, warmer, hot, cosy, christmas, gingerbread, etc.) and which are outdoor-related (e.g., picnic, garden, jam, polkadot, tea, easter, etc.) using sample keywords. This can be done by creating a new column in the dataset that labels items based on their descriptions."
   ]
  },
  {
   "cell_type": "code",
   "execution_count": null,
   "metadata": {
    "colab": {
     "base_uri": "https://localhost:8080/"
    },
    "id": "T9X-Zd06LE6Z",
    "outputId": "b85431b4-5a3f-4eac-e247-b0805115cec0"
   },
   "outputs": [],
   "source": [
    "# find keywords\n",
    "def categorize_product(description):\n",
    "    cold_items = ['WOOLLY', 'WARMER', 'HOT', 'COSY', 'CHRISTMAS', 'GINGERBREAD']\n",
    "    outdoor_items = ['PICNIC', 'GARDEN', 'JAM', 'POLKADOT', 'TEA', 'EASTER']\n",
    "\n",
    "    # account for NaN and floats\n",
    "    description = str(description) if not pd.isnull(description) else ''\n",
    "    if any(item in description for item in cold_items):\n",
    "        return 'Cold-Related'\n",
    "    elif any(item in description for item in outdoor_items):\n",
    "        return 'Outdoor-Related'\n",
    "    else:\n",
    "        return 'Other'\n",
    "\n",
    "# Apply the function to the Description column\n",
    "Q1a['Category'] = Q1a['Description'].apply(categorize_product)\n",
    "print(Q1a.head())"
   ]
  },
  {
   "cell_type": "markdown",
   "metadata": {
    "id": "XpztaRyJLOCP"
   },
   "source": [
    "Once the products are categorized, we can group the sales data by season and product category. This will allow us to see how the sales of cold-related and outdoor-related items fluctuate across seasons."
   ]
  },
  {
   "cell_type": "code",
   "execution_count": null,
   "metadata": {
    "colab": {
     "base_uri": "https://localhost:8080/"
    },
    "id": "lZ9EqtCFLPIc",
    "outputId": "b1bffa30-5c8c-4275-9cd6-b6b44ad7dfe5"
   },
   "outputs": [],
   "source": [
    "# Grouping by Season and Category to calculate the total quantity sold\n",
    "seasonal_sales = Q1a.groupby(['Season', 'Category'])['Quantity'].sum().reset_index()\n",
    "\n",
    "# Display seasonal sales data\n",
    "print(seasonal_sales)"
   ]
  },
  {
   "cell_type": "markdown",
   "metadata": {
    "id": "l6vJ5whMLmbD"
   },
   "source": [
    "Takeaway: results are as expected for spring and summer, with significantly more outdoor-related purchases than cold-related purchases in those seasons. There is also much more cold-related purchases than outdoor-related purchases in autumn, but the results are unexpected for winter, with more outdoor-related purchases than cold-related purchases. This could be due to the fact that customers are buying more outdoor-related goods in anticipation of spring.\n"
   ]
  },
  {
   "cell_type": "markdown",
   "metadata": {
    "id": "HifSaRBCBgPb"
   },
   "source": [
    "# (b) Impulsive buyer analysis - Ervin"
   ]
  },
  {
   "cell_type": "markdown",
   "metadata": {
    "id": "iU4Eap1QC7Vz"
   },
   "source": [
    "**Hypothesis:**\n",
    "\n",
    "1. Customers exhibit strongly impulsive behaviour if they buy and cancel an order within a day.\n",
    "2. Customers exhibit weakly impulsive behaviour and/or are particular about the quality of the good they buy if they buy and return an order (signified by a cancellation as well) within a week.\n",
    "\n",
    "To commence our investigation, we will first identify cancellations denoted by purchases with InvoiceNo starting with \"C\".\n",
    "\n",
    "Subsequently, we will group by CustomerID and use the Invoice Date column to calculate whether cancellations occur within the same day (for strongly impulsive) or within a week (for weakly impulsive).\n",
    "\n",
    "We will then calculate the cancellation rate for each customer (i.e. the number of cancellations divided by the number of purchases for each year) and filter customers who have a cancellation rate >= 0.5 and who make a significant number of purchases (>5) to identify customers of interest."
   ]
  },
  {
   "cell_type": "markdown",
   "metadata": {
    "id": "g2aDecNIB99K"
   },
   "source": [
    "**Definitions:**\n",
    "\n",
    "* Cancellation rate: Number of times a customer makes cancellation per year / Number of purchases a customer makes per year.\n",
    "* Benchmark for a significant number of purchases per year is more than 5."
   ]
  },
  {
   "cell_type": "code",
   "execution_count": null,
   "metadata": {
    "colab": {
     "base_uri": "https://localhost:8080/"
    },
    "id": "ANIULH9IKrI4",
    "outputId": "91838a04-040e-4e0e-e121-4351bd60115d"
   },
   "outputs": [],
   "source": [
    "Q1b = uci_drop.copy()\n",
    "\n",
    "# Add a column to indicate cancellations (True or False)\n",
    "Q1b['IsCancellation'] = Q1b['InvoiceNo'].str.startswith('C', na=False)\n",
    "\n",
    "# Convert 'Invoice Date' to datetime\n",
    "Q1b['Invoice Date'] = pd.to_datetime(Q1b['Invoice Date'])\n",
    "\n",
    "# Add a column to mark the year of the purchase\n",
    "Q1b['Year'] = Q1b['Invoice Date'].dt.year\n",
    "\n",
    "# Add a column to mark the day of purchase for later comparison\n",
    "Q1b['PurchaseDate'] = Q1b['Invoice Date'].dt.date\n",
    "\n",
    "# Function to find impulsive customers\n",
    "def find_impulsive_customers(df):\n",
    "    # Create a DataFrame to store customer metrics\n",
    "    impulsive_customers = pd.DataFrame()\n",
    "\n",
    "    # Group by CustomerID and Year\n",
    "    customer_group = df.groupby(['CustomerID', 'Year'])\n",
    "\n",
    "    # Iterate over each customer-year group\n",
    "    for (customer_id, year), group in customer_group:\n",
    "        # Split the data into cancellations and purchases\n",
    "        cancellations = group[group['IsCancellation'] == True]\n",
    "        purchases = group[group['IsCancellation'] == False]\n",
    "\n",
    "        # If there are no purchases or cancellations, skip this group\n",
    "        if len(purchases) == 0 or len(cancellations) == 0:\n",
    "            continue\n",
    "\n",
    "        # Calculate the number of purchases and cancellations\n",
    "        total_purchases = len(purchases)\n",
    "        total_cancellations = len(cancellations)\n",
    "\n",
    "        # Find strongly and weakly impulsive behaviors\n",
    "        strongly_impulsive = 0\n",
    "        weakly_impulsive = 0\n",
    "\n",
    "        for _, cancellation in cancellations.iterrows():\n",
    "            # Find the time difference between purchases and cancellations\n",
    "            purchase_times = purchases['Invoice Date'].values\n",
    "            cancellation_time = cancellation['Invoice Date']\n",
    "\n",
    "            # Check if cancellation happens within a day (strongly impulsive)\n",
    "            if any(abs((cancellation_time - purchase_time).days) <= 1 for purchase_time in purchase_times):\n",
    "                strongly_impulsive += 1\n",
    "            # Check if cancellation happens within a week (weakly impulsive)\n",
    "            elif any(abs((cancellation_time - purchase_time).days) <= 7 for purchase_time in purchase_times):\n",
    "                weakly_impulsive += 1\n",
    "\n",
    "        # Calculate the cancellation rate\n",
    "        cancellation_rate = total_cancellations / total_purchases\n",
    "\n",
    "        # Check if cancellation rate >= 0.5 and the customer has more than 5 purchases\n",
    "        if cancellation_rate >= 0.5 and total_purchases > 5:\n",
    "            impulsive_customers = pd.concat([impulsive_customers, pd.DataFrame([{\n",
    "                'CustomerID': customer_id,\n",
    "                'Year': year,\n",
    "                'TotalPurchases': total_purchases,\n",
    "                'TotalCancellations': total_cancellations,\n",
    "                'CancellationRate': cancellation_rate,\n",
    "                'StronglyImpulsive': strongly_impulsive,\n",
    "                'WeaklyImpulsive': weakly_impulsive\n",
    "            }])], ignore_index=True)\n",
    "\n",
    "    return impulsive_customers\n",
    "\n",
    "impulsive_customers = find_impulsive_customers(Q1b)\n",
    "\n",
    "# Display the result\n",
    "print(impulsive_customers)"
   ]
  },
  {
   "cell_type": "markdown",
   "metadata": {
    "id": "38z2hZStFQF1"
   },
   "source": [
    "# (c) Brand Loyal Customer Analysis - MH"
   ]
  },
  {
   "cell_type": "markdown",
   "metadata": {
    "id": "gtEy55FLGHJI"
   },
   "source": [
    "**Hypothesis**\n",
    "- Customer who make repeated purchases of the same stock code consistently over a year are loyal to the brand\n",
    "- Is occasion or geography related to brand loyalty?"
   ]
  },
  {
   "cell_type": "markdown",
   "metadata": {
    "id": "PEs-zctOCSSL"
   },
   "source": [
    "### Clean data to question-specific context"
   ]
  },
  {
   "cell_type": "code",
   "execution_count": null,
   "metadata": {
    "colab": {
     "base_uri": "https://localhost:8080/",
     "height": 310
    },
    "id": "NYu7ffP3Kn0O",
    "outputId": "807d6808-56cf-4c38-bae8-4e729abfb857"
   },
   "outputs": [],
   "source": [
    "Q1c = uci_drop.copy()\n",
    "# Combine date and time into a single datetime column\n",
    "\n",
    "Q1c['PurchaseDateTime'] = pd.to_datetime(Q1c['Invoice Date'] + ' ' + Q1c['Invoice Time'])\n",
    "\n",
    "# drop negative quantity\n",
    "Q1c = Q1c[Q1c['Quantity'] > 0]\n",
    "\n",
    "# drop customers with no ID\n",
    "Q1c = Q1c[~Q1c['CustomerID'].isin([0])]\n",
    "\n",
    "# drop qty anomaly 3114\n",
    "Q1c = Q1c[~Q1c['Quantity'].isin([3114])]\n",
    "\n",
    "# drop discounted items\n",
    "Q1c = Q1c[~Q1c['StockCode'].isin(['D'])]\n",
    "\n",
    "Q1c.head()"
   ]
  },
  {
   "cell_type": "markdown",
   "metadata": {
    "id": "kYzyRiTdCaE7"
   },
   "source": [
    "### **Are customers brand loyal?**\n",
    "\n",
    "- We define items as repeatedly purchased if number of purchases by the same customers is >2\n",
    "\n",
    "- Drop those items that are not repeatedly purchased (not more than 2 times)\n",
    "\n",
    "- Customers who have a large inclination to repeatedly purchase the same items are considered to be brand loyal"
   ]
  },
  {
   "cell_type": "code",
   "execution_count": null,
   "metadata": {
    "colab": {
     "base_uri": "https://localhost:8080/",
     "height": 423
    },
    "id": "wifqVQ4UrbT9",
    "outputId": "b28fcf84-434f-46c5-f106-f048b5d5c947"
   },
   "outputs": [],
   "source": [
    "# Step 1: Aggregate Purchase Data\n",
    "\n",
    "loyalty_data = Q1c.groupby(['CustomerID', 'StockCode']).agg(\n",
    "    purchase_count=('StockCode', 'size'),\n",
    "    mean_quantity=('Quantity', 'mean'),\n",
    "    first_purchase = ('PurchaseDateTime', 'min'),\n",
    "    most_recent_purchase=('PurchaseDateTime', 'max')\n",
    ").reset_index()\n",
    "\n",
    "# delete rows with purchase_count > 1. This means they only bought this item once in span of two years\n",
    "loyalty_data = loyalty_data[loyalty_data['purchase_count'] > 1]\n",
    "\n",
    "# find days between first and last time same item was purchased by same user\n",
    "loyalty_data['purchase_timeframe'] = (loyalty_data['most_recent_purchase'] - loyalty_data['first_purchase']).dt.days\n",
    "\n",
    "# count purchase frequency. If 365, means item might be seasonal\n",
    "loyalty_data['purchase_frequency'] = loyalty_data['purchase_timeframe'] / loyalty_data['purchase_count']\n",
    "\n",
    "# brand loyal customers are defined by purchase_count > 2 or purchase_timeframe >= 365.\n",
    "# If customer frequently makes purchase of same item, even in a short timeframe, it shows brand loyalty.\n",
    "# If customer makes purchase once per year, it might be brand loyalty of seasonal item\n",
    "loyalty_data = loyalty_data[(loyalty_data['purchase_count'] > 2) | (loyalty_data['purchase_timeframe'] >= 365)]\n",
    "\n",
    "loyalty_data"
   ]
  },
  {
   "cell_type": "markdown",
   "metadata": {
    "id": "iQFSdcHYBQkP"
   },
   "source": [
    "- Things that are repeatedly purchased don't seem to be occasion-related"
   ]
  },
  {
   "cell_type": "code",
   "execution_count": null,
   "metadata": {
    "colab": {
     "base_uri": "https://localhost:8080/",
     "height": 423
    },
    "id": "UfwcrLZE-yxv",
    "outputId": "616c7a87-90a0-4245-fd37-85d464a644f3"
   },
   "outputs": [],
   "source": [
    "stock_counts = loyalty_data['StockCode'].value_counts()\n",
    "result = pd.merge(stock_counts, Q1c[['StockCode','Description']], on='StockCode', how='left').drop_duplicates()[['Description']]\n",
    "result"
   ]
  },
  {
   "cell_type": "markdown",
   "metadata": {
    "id": "MZKdJKgfCzgh"
   },
   "source": [
    "- Find, out of all products purchased by a customer, what is the probability customer makes repeated purchase (more than two times) of it.\n",
    "- We then use this probability as a proxy of the chance of a certain customer returning to make a repeated purchase of any item they bought"
   ]
  },
  {
   "cell_type": "code",
   "execution_count": null,
   "metadata": {
    "colab": {
     "base_uri": "https://localhost:8080/",
     "height": 423
    },
    "id": "th5KhxjD0f1U",
    "outputId": "e64cbf6f-de90-4f28-d226-1dfc6ede418f"
   },
   "outputs": [],
   "source": [
    "# check out of all the products customer bought, what proportion do they go back and frequent same product\n",
    "customer_counts = loyalty_data['CustomerID'].value_counts().reset_index()\n",
    "customer_counts.columns = ['CustomerID', 'Numer of unique items purchased more than 2 times']\n",
    "unique_stock_counts = Q1c.groupby('CustomerID')['StockCode'].nunique().reset_index()\n",
    "merged_df = pd.merge(customer_counts, unique_stock_counts, on='CustomerID', how='inner')\n",
    "merged_df['loyal_probability'] = (merged_df['Numer of unique items purchased more than 2 times']/merged_df['StockCode'])\n",
    "merged_df.rename(columns={'StockCode': 'Number of unique items purchased'}, inplace=True)\n",
    "\n",
    "merged_df"
   ]
  },
  {
   "cell_type": "markdown",
   "metadata": {
    "id": "eCCTDBgBondY"
   },
   "source": [
    "- We define a customer to be goods-loyal if their probability of purchasing the same item they bought previously is > 0.2.\n",
    "\n",
    "- Although 0.2 might seem like a small number, but it is the best resort now since product brand is not given and certain goods might belong to the same brand.\n",
    "\n",
    "- We decide to use goods loyal as a proxy for brands loyal.\n",
    "\n",
    "- We find that 322 customers are brand loyal, which is 7.66% of the total customers."
   ]
  },
  {
   "cell_type": "code",
   "execution_count": null,
   "metadata": {
    "colab": {
     "base_uri": "https://localhost:8080/"
    },
    "id": "K_ejfYeM2f6P",
    "outputId": "987a8b67-e1cd-452b-c9eb-ca9ebdd5641c"
   },
   "outputs": [],
   "source": [
    "# 322 customers identified to be brand loyal\n",
    "total_customers = Q1c['CustomerID'].nunique()\n",
    "loyal_customers = (merged_df['loyal_probability'] > 0.2).sum()\n",
    "print(\"Total number of customers is: {}\".format(total_customers))\n",
    "print(\"Number of customers who are brand loyal is: {}\".format(loyal_customers))\n",
    "message = \"Proportion of customers who are brand loyal is: {}%\".format(round(loyal_customers/total_customers,4)*100)\n",
    "print(message)"
   ]
  },
  {
   "cell_type": "markdown",
   "metadata": {
    "id": "jm8MUMik04x1"
   },
   "source": [
    "### **We then want to investigate if brand loyal customers are correlated with their region**"
   ]
  },
  {
   "cell_type": "markdown",
   "metadata": {
    "id": "S2OHGE7OFl-4"
   },
   "source": [
    "We first obtain the country of each identified brand loyal customer"
   ]
  },
  {
   "cell_type": "code",
   "execution_count": null,
   "metadata": {
    "colab": {
     "base_uri": "https://localhost:8080/",
     "height": 423
    },
    "id": "1oTLKqNm0sb4",
    "outputId": "02070251-69ae-45ac-f32b-98610215d4d8"
   },
   "outputs": [],
   "source": [
    "loyal_customers_id = merged_df[merged_df['loyal_probability'] > 0.2]['CustomerID']\n",
    "loyal_customer_data = pd.merge(loyal_customers_id, Q1c, on='CustomerID', how='left')\n",
    "loyal_customer_data = loyal_customer_data.drop_duplicates(subset='CustomerID')[['CustomerID', 'Country']]\n",
    "loyal_customer_data"
   ]
  },
  {
   "cell_type": "markdown",
   "metadata": {
    "id": "zA4iFohyFFNa"
   },
   "source": [
    "We notice from the bar plot that most brand loyal customers come from the UK. But is this really true?"
   ]
  },
  {
   "cell_type": "code",
   "execution_count": null,
   "metadata": {
    "colab": {
     "base_uri": "https://localhost:8080/",
     "height": 639
    },
    "id": "Jgcu0U7U2ggn",
    "outputId": "a3053e8d-7040-4347-9ea1-8ecda9695007"
   },
   "outputs": [],
   "source": [
    "# Count the number of customers per country\n",
    "country_counts = loyal_customer_data['Country'].value_counts()\n",
    "\n",
    "# Create a bar chart\n",
    "plt.figure(figsize=(10, 6))\n",
    "country_counts.plot(kind='bar', color='skyblue')\n",
    "plt.title('Number of Loyal Customers by Country')\n",
    "plt.xlabel('Country')\n",
    "plt.ylabel('Number of Customers')\n",
    "plt.xticks(rotation=45)  # Rotate x-axis labels for better visibility\n",
    "plt.grid(axis='y')  # Add grid lines for better readability\n",
    "plt.show()"
   ]
  },
  {
   "cell_type": "markdown",
   "metadata": {
    "id": "xn6l9JtsFwVY"
   },
   "source": [
    "We then investigate the distribution of customers' country in the unfiltered dataset.\n",
    "\n",
    "- Most customers are from the UK\n",
    "- Data is originally skewed\n",
    "- There is no geographical correlation with brand loyalty"
   ]
  },
  {
   "cell_type": "code",
   "execution_count": null,
   "metadata": {
    "colab": {
     "base_uri": "https://localhost:8080/",
     "height": 665
    },
    "id": "8EVihIjJ3VWp",
    "outputId": "d03d5801-8df1-406f-e622-a4da3a208798"
   },
   "outputs": [],
   "source": [
    "Q1c_check = Q1c.drop_duplicates(subset='CustomerID')[['CustomerID', 'Country']]\n",
    "# Count the number of customers per country\n",
    "country_check = Q1c_check['Country'].value_counts()\n",
    "\n",
    "# Create a bar chart\n",
    "plt.figure(figsize=(10, 6))\n",
    "country_check.plot(kind='bar', color='skyblue')\n",
    "plt.title('Number of Customers by Country')\n",
    "plt.xlabel('Country')\n",
    "plt.ylabel('Number of Customers')\n",
    "plt.xticks(rotation=45)  # Rotate x-axis labels for better visibility\n",
    "plt.grid(axis='y')  # Add grid lines for better readability\n",
    "plt.show()"
   ]
  },
  {
   "cell_type": "markdown",
   "metadata": {
    "id": "LAJ_xknpGRO3"
   },
   "source": [
    "# (d) Discount-Driven Customer Analysis - MH"
   ]
  },
  {
   "cell_type": "markdown",
   "metadata": {
    "id": "gRx17WPIGWRf"
   },
   "source": [
    "**Hypothesis**\n",
    "- Definition: avg discount percentage = total amount of discount in dollar per customer gets per year **/** total amount of dollar purchase made by per customer per year\n",
    "- Customers are identified to be discount-driven if they enjoy a total of more than 5% discount on average across all purchases\n"
   ]
  },
  {
   "cell_type": "code",
   "execution_count": null,
   "metadata": {
    "colab": {
     "base_uri": "https://localhost:8080/",
     "height": 310
    },
    "id": "RLwWXVIcH9Jj",
    "outputId": "82eab437-6e7e-4f32-ed8e-2613e3c87917"
   },
   "outputs": [],
   "source": [
    "Q1d = uci_drop.copy()\n",
    "Q1d.head()"
   ]
  },
  {
   "cell_type": "markdown",
   "metadata": {
    "id": "_QZh0vsXIm9o"
   },
   "source": [
    "### Clean data to question-specific context"
   ]
  },
  {
   "cell_type": "code",
   "execution_count": null,
   "metadata": {
    "id": "-RZsA6pP9QDM"
   },
   "outputs": [],
   "source": [
    "discounted_items = Q1d[Q1d['StockCode'] == 'D']\n",
    "\n",
    "# drop negative quantity\n",
    "Q1d = Q1d[Q1d['Quantity'] > 0]\n",
    "\n",
    "# drop customers with no ID\n",
    "Q1d = Q1d[~Q1d['CustomerID'].isin([0])]\n",
    "\n",
    "# drop qty anomaly 3114\n",
    "Q1d = Q1d[~Q1d['Quantity'].isin([3114])]\n",
    "\n",
    "# dataset without discounted items, only items bought\n",
    "Q1d = Q1d[Q1d['StockCode'] != 'D']"
   ]
  },
  {
   "cell_type": "markdown",
   "metadata": {
    "id": "iRvako3tIryP"
   },
   "source": [
    "### Find average discount per customer gets\n",
    "\n",
    "Identify discount-driven customers"
   ]
  },
  {
   "cell_type": "code",
   "execution_count": null,
   "metadata": {
    "colab": {
     "base_uri": "https://localhost:8080/",
     "height": 802
    },
    "id": "YrxkPJfV89PH",
    "outputId": "f613cdc1-776e-4d98-d32c-3f3933f205c6"
   },
   "outputs": [],
   "source": [
    "# find total amt spent (full price) per customer per year\n",
    "total_purchases = Q1d.groupby(['CustomerID'])['TotalPrice'].sum().reset_index()\n",
    "total_purchases.columns = ['CustomerID','TotalSpent ($)']\n",
    "\n",
    "# find total discount per customer enjoyed per year\n",
    "total_discount = discounted_items.groupby(['CustomerID'])['TotalPrice'].sum().reset_index()\n",
    "total_discount.columns = ['CustomerID', 'TotalDiscount ($)']\n",
    "\n",
    "# find avg discount percentage per customer per year\n",
    "Q1d_merged = pd.merge(total_discount, total_purchases, on=['CustomerID'], how='inner')\n",
    "Q1d_merged['AvgDiscount (%)'] = Q1d_merged['TotalDiscount ($)']*-1*100 / Q1d_merged['TotalSpent ($)']\n",
    "# -1 to turn totalDiscount into positive\n",
    "# *100 to turn it into percentage\n",
    "Q1d_merged"
   ]
  },
  {
   "cell_type": "code",
   "execution_count": null,
   "metadata": {
    "colab": {
     "base_uri": "https://localhost:8080/",
     "height": 112
    },
    "id": "H7wf_n9Q_hUJ",
    "outputId": "9b4476f6-a6aa-4900-ed40-98732e28a1d8"
   },
   "outputs": [],
   "source": [
    "# find those customers who enjoyed >= 5% avg total discount consistently in 2010 and 2011. We classify those as discount driven\n",
    "\n",
    "discount_driven = Q1d_merged[Q1d_merged['AvgDiscount (%)'] >= 5]\n",
    "discount_driven.head()"
   ]
  },
  {
   "cell_type": "markdown",
   "metadata": {
    "id": "0ncGJBXPAA42"
   },
   "source": [
    "**We conclude limited number of customers are discount-driven. Hence no further analysis could be done.**"
   ]
  },
  {
   "cell_type": "markdown",
   "metadata": {
    "id": "LqwLACm4Ib16"
   },
   "source": [
    "# Fruit for thought: Global Economy recession effect\n",
    "- 2010 global recovery from ASIA FINANCIAL CRISIS. Magnitude of recovery is large\n",
    "- 2011, global economy continues to recover, but at a smaller magnitude\n",
    "\n",
    "WILL THIS INFLUENCE OUR INVESTIGATION?"
   ]
  }
 ],
 "metadata": {
  "colab": {
   "collapsed_sections": [
    "HifSaRBCBgPb",
    "38z2hZStFQF1"
   ],
   "provenance": []
  },
  "kernelspec": {
   "display_name": "Python 3",
   "name": "python3"
  },
  "language_info": {
   "name": "python"
  }
 },
 "nbformat": 4,
 "nbformat_minor": 0
}
